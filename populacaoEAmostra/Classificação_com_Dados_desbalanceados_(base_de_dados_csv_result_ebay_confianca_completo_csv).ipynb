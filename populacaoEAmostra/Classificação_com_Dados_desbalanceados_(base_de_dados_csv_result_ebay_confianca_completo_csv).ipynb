{
  "nbformat": 4,
  "nbformat_minor": 0,
  "metadata": {
    "colab": {
      "name": "Classificação com Dados desbalanceados (base de dados csv_result-ebay_confianca_completo.csv).ipynb",
      "provenance": [],
      "collapsed_sections": [],
      "toc_visible": true
    },
    "kernelspec": {
      "name": "python3",
      "display_name": "Python 3"
    }
  },
  "cells": [
    {
      "cell_type": "markdown",
      "metadata": {
        "id": "bnzPmx8P52UF"
      },
      "source": [
        "# Classificação com dados desbalanceados"
      ]
    },
    {
      "cell_type": "markdown",
      "metadata": {
        "id": "DTxzWPl_Vel4"
      },
      "source": [
        "## Carregamento da base de dados"
      ]
    },
    {
      "cell_type": "code",
      "metadata": {
        "id": "NudHlvMHBTlS"
      },
      "source": [
        "import pandas as pd\n",
        "import random\n",
        "import numpy as np"
      ],
      "execution_count": 1,
      "outputs": []
    },
    {
      "cell_type": "code",
      "metadata": {
        "id": "gqH_zFo9Bbih"
      },
      "source": [
        "dataset = pd.read_csv('csv_result-ebay_confianca_completo.csv')"
      ],
      "execution_count": 8,
      "outputs": []
    },
    {
      "cell_type": "code",
      "metadata": {
        "id": "8iqh9PC7Bj-B",
        "colab": {
          "base_uri": "https://localhost:8080/"
        },
        "outputId": "9e763c8c-3afa-45f1-f45f-19c7863e6ba4"
      },
      "source": [
        "dataset.shape"
      ],
      "execution_count": 9,
      "outputs": [
        {
          "output_type": "execute_result",
          "data": {
            "text/plain": [
              "(5806, 75)"
            ]
          },
          "metadata": {
            "tags": []
          },
          "execution_count": 9
        }
      ]
    },
    {
      "cell_type": "code",
      "metadata": {
        "id": "71gReO7sBnYn",
        "colab": {
          "base_uri": "https://localhost:8080/",
          "height": 217
        },
        "outputId": "161a791d-4eb2-460a-82f9-a21cfb572d13"
      },
      "source": [
        "dataset.head()"
      ],
      "execution_count": 17,
      "outputs": [
        {
          "output_type": "execute_result",
          "data": {
            "text/html": [
              "<div>\n",
              "<style scoped>\n",
              "    .dataframe tbody tr th:only-of-type {\n",
              "        vertical-align: middle;\n",
              "    }\n",
              "\n",
              "    .dataframe tbody tr th {\n",
              "        vertical-align: top;\n",
              "    }\n",
              "\n",
              "    .dataframe thead th {\n",
              "        text-align: right;\n",
              "    }\n",
              "</style>\n",
              "<table border=\"1\" class=\"dataframe\">\n",
              "  <thead>\n",
              "    <tr style=\"text-align: right;\">\n",
              "      <th></th>\n",
              "      <th>feedbacks</th>\n",
              "      <th>reviews</th>\n",
              "      <th>blacklist</th>\n",
              "      <th>mextraversion</th>\n",
              "      <th>cextraversion</th>\n",
              "      <th>sextraversion</th>\n",
              "      <th>mneuroticism</th>\n",
              "      <th>cneuroticism</th>\n",
              "      <th>sneuroticism</th>\n",
              "      <th>mconscientiousness</th>\n",
              "      <th>cconscientiousness</th>\n",
              "      <th>sconscientiousness</th>\n",
              "      <th>magreeableness</th>\n",
              "      <th>cagreeableness</th>\n",
              "      <th>sagreeableness</th>\n",
              "      <th>mopenness</th>\n",
              "      <th>copenness</th>\n",
              "      <th>sopenness</th>\n",
              "      <th>agreeablenessIndico</th>\n",
              "      <th>conscientiousnessIndico</th>\n",
              "      <th>extraversionIndico</th>\n",
              "      <th>opennessIndico</th>\n",
              "      <th>openessWatson</th>\n",
              "      <th>conscientiousnessWatson</th>\n",
              "      <th>extraversionWatson</th>\n",
              "      <th>agreeablenessWatson</th>\n",
              "      <th>neuroticismWatson</th>\n",
              "      <th>o_adventure</th>\n",
              "      <th>o_artistic</th>\n",
              "      <th>o_emotionality</th>\n",
              "      <th>o_imagination</th>\n",
              "      <th>o_intelect</th>\n",
              "      <th>o_liberalism</th>\n",
              "      <th>c_achievement</th>\n",
              "      <th>c_cautiouness</th>\n",
              "      <th>c_dutifulness</th>\n",
              "      <th>c_orderliness</th>\n",
              "      <th>c_discipline</th>\n",
              "      <th>c_efficacy</th>\n",
              "      <th>e_activity</th>\n",
              "      <th>e_assertiveness</th>\n",
              "      <th>e_cheerfulness</th>\n",
              "      <th>e_excitement</th>\n",
              "      <th>e_friend</th>\n",
              "      <th>e_gregariouness</th>\n",
              "      <th>a_altruism</th>\n",
              "      <th>a_cooperation</th>\n",
              "      <th>a_modesty</th>\n",
              "      <th>a_morality</th>\n",
              "      <th>a_simpathy</th>\n",
              "      <th>a_trust</th>\n",
              "      <th>n_anger</th>\n",
              "      <th>n_anxiety</th>\n",
              "      <th>n_depression</th>\n",
              "      <th>n_immoderation</th>\n",
              "      <th>n_selfconsciouness</th>\n",
              "      <th>n_vulnerability</th>\n",
              "      <th>need_chalenge</th>\n",
              "      <th>need_closeness</th>\n",
              "      <th>need_curiosity</th>\n",
              "      <th>need_excitement</th>\n",
              "      <th>need_harmony</th>\n",
              "      <th>need_ideal</th>\n",
              "      <th>need_liberty</th>\n",
              "      <th>need_love</th>\n",
              "      <th>need_practicaly</th>\n",
              "      <th>need_selfexpression</th>\n",
              "      <th>need_stability</th>\n",
              "      <th>need_structure</th>\n",
              "      <th>value_conservation</th>\n",
              "      <th>value_openess</th>\n",
              "      <th>value_hedonism</th>\n",
              "      <th>value_selfenhancement</th>\n",
              "      <th>value_selftranscendence</th>\n",
              "      <th>reputation</th>\n",
              "    </tr>\n",
              "  </thead>\n",
              "  <tbody>\n",
              "    <tr>\n",
              "      <th>2</th>\n",
              "      <td>0</td>\n",
              "      <td>49</td>\n",
              "      <td>False</td>\n",
              "      <td>4.181642</td>\n",
              "      <td>0.6</td>\n",
              "      <td>1</td>\n",
              "      <td>2.777591</td>\n",
              "      <td>0.6</td>\n",
              "      <td>0</td>\n",
              "      <td>4.085460</td>\n",
              "      <td>0.5</td>\n",
              "      <td>0</td>\n",
              "      <td>4.110703</td>\n",
              "      <td>0.4</td>\n",
              "      <td>0</td>\n",
              "      <td>5.645506</td>\n",
              "      <td>0.6</td>\n",
              "      <td>1</td>\n",
              "      <td>0.684026</td>\n",
              "      <td>0.410566</td>\n",
              "      <td>0.646393</td>\n",
              "      <td>0.541885</td>\n",
              "      <td>0.835889</td>\n",
              "      <td>0.607272</td>\n",
              "      <td>0.589781</td>\n",
              "      <td>0.797063</td>\n",
              "      <td>0.449051</td>\n",
              "      <td>0.479940</td>\n",
              "      <td>0.753559</td>\n",
              "      <td>0.744320</td>\n",
              "      <td>0.758126</td>\n",
              "      <td>0.684179</td>\n",
              "      <td>0.526194</td>\n",
              "      <td>0.683279</td>\n",
              "      <td>0.559430</td>\n",
              "      <td>0.667665</td>\n",
              "      <td>0.522323</td>\n",
              "      <td>0.570964</td>\n",
              "      <td>0.746656</td>\n",
              "      <td>0.496348</td>\n",
              "      <td>0.649539</td>\n",
              "      <td>0.577345</td>\n",
              "      <td>0.553578</td>\n",
              "      <td>0.541931</td>\n",
              "      <td>0.350008</td>\n",
              "      <td>0.750762</td>\n",
              "      <td>0.626144</td>\n",
              "      <td>0.476133</td>\n",
              "      <td>0.701773</td>\n",
              "      <td>0.764204</td>\n",
              "      <td>0.512819</td>\n",
              "      <td>0.569980</td>\n",
              "      <td>0.611817</td>\n",
              "      <td>0.446330</td>\n",
              "      <td>0.468466</td>\n",
              "      <td>0.542865</td>\n",
              "      <td>0.442188</td>\n",
              "      <td>0.587795</td>\n",
              "      <td>0.833622</td>\n",
              "      <td>0.810144</td>\n",
              "      <td>0.462635</td>\n",
              "      <td>0.852183</td>\n",
              "      <td>0.628620</td>\n",
              "      <td>0.681354</td>\n",
              "      <td>0.820817</td>\n",
              "      <td>0.696359</td>\n",
              "      <td>0.698786</td>\n",
              "      <td>0.756963</td>\n",
              "      <td>0.660119</td>\n",
              "      <td>0.619416</td>\n",
              "      <td>0.746372</td>\n",
              "      <td>0.640073</td>\n",
              "      <td>0.598037</td>\n",
              "      <td>0.828716</td>\n",
              "      <td>Bom</td>\n",
              "    </tr>\n",
              "    <tr>\n",
              "      <th>3</th>\n",
              "      <td>0</td>\n",
              "      <td>56</td>\n",
              "      <td>False</td>\n",
              "      <td>4.007042</td>\n",
              "      <td>0.6</td>\n",
              "      <td>0</td>\n",
              "      <td>2.698650</td>\n",
              "      <td>0.6</td>\n",
              "      <td>0</td>\n",
              "      <td>4.187338</td>\n",
              "      <td>0.5</td>\n",
              "      <td>0</td>\n",
              "      <td>3.806675</td>\n",
              "      <td>0.4</td>\n",
              "      <td>0</td>\n",
              "      <td>6.190563</td>\n",
              "      <td>0.6</td>\n",
              "      <td>1</td>\n",
              "      <td>0.464647</td>\n",
              "      <td>0.431002</td>\n",
              "      <td>0.569719</td>\n",
              "      <td>0.588085</td>\n",
              "      <td>0.830316</td>\n",
              "      <td>0.572403</td>\n",
              "      <td>0.564882</td>\n",
              "      <td>0.722874</td>\n",
              "      <td>0.461567</td>\n",
              "      <td>0.478643</td>\n",
              "      <td>0.710639</td>\n",
              "      <td>0.701289</td>\n",
              "      <td>0.782399</td>\n",
              "      <td>0.716377</td>\n",
              "      <td>0.547235</td>\n",
              "      <td>0.657048</td>\n",
              "      <td>0.510715</td>\n",
              "      <td>0.654974</td>\n",
              "      <td>0.505224</td>\n",
              "      <td>0.543689</td>\n",
              "      <td>0.754035</td>\n",
              "      <td>0.463572</td>\n",
              "      <td>0.667516</td>\n",
              "      <td>0.547494</td>\n",
              "      <td>0.580140</td>\n",
              "      <td>0.514974</td>\n",
              "      <td>0.327534</td>\n",
              "      <td>0.724414</td>\n",
              "      <td>0.556060</td>\n",
              "      <td>0.424484</td>\n",
              "      <td>0.610452</td>\n",
              "      <td>0.757238</td>\n",
              "      <td>0.514746</td>\n",
              "      <td>0.595900</td>\n",
              "      <td>0.623953</td>\n",
              "      <td>0.500948</td>\n",
              "      <td>0.467786</td>\n",
              "      <td>0.569568</td>\n",
              "      <td>0.408936</td>\n",
              "      <td>0.596168</td>\n",
              "      <td>0.766870</td>\n",
              "      <td>0.790915</td>\n",
              "      <td>0.473358</td>\n",
              "      <td>0.800680</td>\n",
              "      <td>0.628022</td>\n",
              "      <td>0.667925</td>\n",
              "      <td>0.785016</td>\n",
              "      <td>0.715300</td>\n",
              "      <td>0.664572</td>\n",
              "      <td>0.728806</td>\n",
              "      <td>0.660740</td>\n",
              "      <td>0.588969</td>\n",
              "      <td>0.735915</td>\n",
              "      <td>0.644465</td>\n",
              "      <td>0.603042</td>\n",
              "      <td>0.809379</td>\n",
              "      <td>Bom</td>\n",
              "    </tr>\n",
              "    <tr>\n",
              "      <th>4</th>\n",
              "      <td>0</td>\n",
              "      <td>50</td>\n",
              "      <td>False</td>\n",
              "      <td>4.538230</td>\n",
              "      <td>0.7</td>\n",
              "      <td>1</td>\n",
              "      <td>2.298492</td>\n",
              "      <td>0.5</td>\n",
              "      <td>1</td>\n",
              "      <td>5.085833</td>\n",
              "      <td>0.5</td>\n",
              "      <td>0</td>\n",
              "      <td>4.307670</td>\n",
              "      <td>0.4</td>\n",
              "      <td>0</td>\n",
              "      <td>5.834547</td>\n",
              "      <td>0.8</td>\n",
              "      <td>1</td>\n",
              "      <td>0.574335</td>\n",
              "      <td>0.438136</td>\n",
              "      <td>0.594625</td>\n",
              "      <td>0.536566</td>\n",
              "      <td>0.849708</td>\n",
              "      <td>0.582639</td>\n",
              "      <td>0.577375</td>\n",
              "      <td>0.752931</td>\n",
              "      <td>0.451419</td>\n",
              "      <td>0.510756</td>\n",
              "      <td>0.737884</td>\n",
              "      <td>0.676704</td>\n",
              "      <td>0.785777</td>\n",
              "      <td>0.684304</td>\n",
              "      <td>0.577079</td>\n",
              "      <td>0.658175</td>\n",
              "      <td>0.517050</td>\n",
              "      <td>0.639082</td>\n",
              "      <td>0.509898</td>\n",
              "      <td>0.520291</td>\n",
              "      <td>0.725458</td>\n",
              "      <td>0.487635</td>\n",
              "      <td>0.578349</td>\n",
              "      <td>0.528123</td>\n",
              "      <td>0.555361</td>\n",
              "      <td>0.474853</td>\n",
              "      <td>0.326494</td>\n",
              "      <td>0.678454</td>\n",
              "      <td>0.619364</td>\n",
              "      <td>0.453175</td>\n",
              "      <td>0.678154</td>\n",
              "      <td>0.694500</td>\n",
              "      <td>0.525181</td>\n",
              "      <td>0.579213</td>\n",
              "      <td>0.619524</td>\n",
              "      <td>0.519524</td>\n",
              "      <td>0.479714</td>\n",
              "      <td>0.611395</td>\n",
              "      <td>0.482310</td>\n",
              "      <td>0.641673</td>\n",
              "      <td>0.755555</td>\n",
              "      <td>0.818792</td>\n",
              "      <td>0.506326</td>\n",
              "      <td>0.798245</td>\n",
              "      <td>0.617355</td>\n",
              "      <td>0.700126</td>\n",
              "      <td>0.735538</td>\n",
              "      <td>0.720150</td>\n",
              "      <td>0.694678</td>\n",
              "      <td>0.669652</td>\n",
              "      <td>0.627962</td>\n",
              "      <td>0.553523</td>\n",
              "      <td>0.766618</td>\n",
              "      <td>0.655470</td>\n",
              "      <td>0.645042</td>\n",
              "      <td>0.826039</td>\n",
              "      <td>Bom</td>\n",
              "    </tr>\n",
              "    <tr>\n",
              "      <th>5</th>\n",
              "      <td>72</td>\n",
              "      <td>0</td>\n",
              "      <td>False</td>\n",
              "      <td>4.692854</td>\n",
              "      <td>0.3</td>\n",
              "      <td>0</td>\n",
              "      <td>2.987231</td>\n",
              "      <td>0.5</td>\n",
              "      <td>0</td>\n",
              "      <td>4.831320</td>\n",
              "      <td>0.7</td>\n",
              "      <td>0</td>\n",
              "      <td>4.613918</td>\n",
              "      <td>0.5</td>\n",
              "      <td>1</td>\n",
              "      <td>4.348694</td>\n",
              "      <td>0.7</td>\n",
              "      <td>1</td>\n",
              "      <td>0.574341</td>\n",
              "      <td>0.514639</td>\n",
              "      <td>0.514115</td>\n",
              "      <td>0.495976</td>\n",
              "      <td>0.790834</td>\n",
              "      <td>0.674920</td>\n",
              "      <td>0.646031</td>\n",
              "      <td>0.763297</td>\n",
              "      <td>0.549710</td>\n",
              "      <td>0.489649</td>\n",
              "      <td>0.646631</td>\n",
              "      <td>0.608902</td>\n",
              "      <td>0.677307</td>\n",
              "      <td>0.614726</td>\n",
              "      <td>0.488001</td>\n",
              "      <td>0.712907</td>\n",
              "      <td>0.549355</td>\n",
              "      <td>0.664191</td>\n",
              "      <td>0.538321</td>\n",
              "      <td>0.596186</td>\n",
              "      <td>0.756297</td>\n",
              "      <td>0.585698</td>\n",
              "      <td>0.624495</td>\n",
              "      <td>0.582153</td>\n",
              "      <td>0.520175</td>\n",
              "      <td>0.525256</td>\n",
              "      <td>0.373468</td>\n",
              "      <td>0.661293</td>\n",
              "      <td>0.656178</td>\n",
              "      <td>0.414692</td>\n",
              "      <td>0.648699</td>\n",
              "      <td>0.612588</td>\n",
              "      <td>0.611793</td>\n",
              "      <td>0.545152</td>\n",
              "      <td>0.545936</td>\n",
              "      <td>0.449869</td>\n",
              "      <td>0.435871</td>\n",
              "      <td>0.523706</td>\n",
              "      <td>0.440116</td>\n",
              "      <td>0.675587</td>\n",
              "      <td>0.751850</td>\n",
              "      <td>0.813193</td>\n",
              "      <td>0.556613</td>\n",
              "      <td>0.775064</td>\n",
              "      <td>0.700630</td>\n",
              "      <td>0.701459</td>\n",
              "      <td>0.690972</td>\n",
              "      <td>0.739793</td>\n",
              "      <td>0.637027</td>\n",
              "      <td>0.697221</td>\n",
              "      <td>0.638587</td>\n",
              "      <td>0.675289</td>\n",
              "      <td>0.752234</td>\n",
              "      <td>0.679661</td>\n",
              "      <td>0.674438</td>\n",
              "      <td>0.813391</td>\n",
              "      <td>Bom</td>\n",
              "    </tr>\n",
              "    <tr>\n",
              "      <th>6</th>\n",
              "      <td>76</td>\n",
              "      <td>0</td>\n",
              "      <td>False</td>\n",
              "      <td>4.966753</td>\n",
              "      <td>0.3</td>\n",
              "      <td>0</td>\n",
              "      <td>3.048730</td>\n",
              "      <td>0.5</td>\n",
              "      <td>0</td>\n",
              "      <td>4.725294</td>\n",
              "      <td>0.5</td>\n",
              "      <td>1</td>\n",
              "      <td>4.743250</td>\n",
              "      <td>0.3</td>\n",
              "      <td>0</td>\n",
              "      <td>4.486198</td>\n",
              "      <td>0.7</td>\n",
              "      <td>1</td>\n",
              "      <td>0.627522</td>\n",
              "      <td>0.542976</td>\n",
              "      <td>0.485505</td>\n",
              "      <td>0.485903</td>\n",
              "      <td>0.786669</td>\n",
              "      <td>0.670957</td>\n",
              "      <td>0.540510</td>\n",
              "      <td>0.764619</td>\n",
              "      <td>0.529810</td>\n",
              "      <td>0.473329</td>\n",
              "      <td>0.663005</td>\n",
              "      <td>0.608885</td>\n",
              "      <td>0.695995</td>\n",
              "      <td>0.601024</td>\n",
              "      <td>0.477730</td>\n",
              "      <td>0.702990</td>\n",
              "      <td>0.554734</td>\n",
              "      <td>0.667045</td>\n",
              "      <td>0.529989</td>\n",
              "      <td>0.574750</td>\n",
              "      <td>0.733478</td>\n",
              "      <td>0.563220</td>\n",
              "      <td>0.540472</td>\n",
              "      <td>0.565630</td>\n",
              "      <td>0.504446</td>\n",
              "      <td>0.493837</td>\n",
              "      <td>0.343277</td>\n",
              "      <td>0.644033</td>\n",
              "      <td>0.713643</td>\n",
              "      <td>0.449867</td>\n",
              "      <td>0.670262</td>\n",
              "      <td>0.618680</td>\n",
              "      <td>0.596047</td>\n",
              "      <td>0.516514</td>\n",
              "      <td>0.583900</td>\n",
              "      <td>0.494273</td>\n",
              "      <td>0.412867</td>\n",
              "      <td>0.575115</td>\n",
              "      <td>0.481213</td>\n",
              "      <td>0.621911</td>\n",
              "      <td>0.779859</td>\n",
              "      <td>0.786455</td>\n",
              "      <td>0.486580</td>\n",
              "      <td>0.808006</td>\n",
              "      <td>0.641099</td>\n",
              "      <td>0.686376</td>\n",
              "      <td>0.724988</td>\n",
              "      <td>0.718530</td>\n",
              "      <td>0.616852</td>\n",
              "      <td>0.692761</td>\n",
              "      <td>0.646695</td>\n",
              "      <td>0.677245</td>\n",
              "      <td>0.699785</td>\n",
              "      <td>0.648607</td>\n",
              "      <td>0.616075</td>\n",
              "      <td>0.816841</td>\n",
              "      <td>Bom</td>\n",
              "    </tr>\n",
              "  </tbody>\n",
              "</table>\n",
              "</div>"
            ],
            "text/plain": [
              "   feedbacks  reviews  ...  value_selftranscendence  reputation\n",
              "2          0       49  ...                 0.828716         Bom\n",
              "3          0       56  ...                 0.809379         Bom\n",
              "4          0       50  ...                 0.826039         Bom\n",
              "5         72        0  ...                 0.813391         Bom\n",
              "6         76        0  ...                 0.816841         Bom\n",
              "\n",
              "[5 rows x 75 columns]"
            ]
          },
          "metadata": {
            "tags": []
          },
          "execution_count": 17
        }
      ]
    },
    {
      "cell_type": "code",
      "metadata": {
        "id": "GVPKQSk6BwsC"
      },
      "source": [
        "dataset['blacklist'] = dataset['blacklist'] == 'S'"
      ],
      "execution_count": 12,
      "outputs": []
    },
    {
      "cell_type": "code",
      "metadata": {
        "id": "nvcT491qB-AJ",
        "colab": {
          "base_uri": "https://localhost:8080/",
          "height": 278
        },
        "outputId": "af4d6944-de94-4213-ab35-f90ccc5f4f25"
      },
      "source": [
        "import seaborn as sns\n",
        "sns.countplot(x=dataset['reputation']); # Plotando gráfico da coluna 'reputation'"
      ],
      "execution_count": 19,
      "outputs": [
        {
          "output_type": "display_data",
          "data": {
            "image/png": "[encoded data removed]",
            "text/plain": [
              "<Figure size 432x288 with 1 Axes>"
            ]
          },
          "metadata": {
            "tags": [],
            "needs_background": "light"
          }
        }
      ]
    },
    {
      "cell_type": "code",
      "metadata": {
        "id": "dnnAJQ-lDB9W",
        "colab": {
          "base_uri": "https://localhost:8080/"
        },
        "outputId": "de7cb9c1-4fa4-419a-c034-1ef2eddb57fc"
      },
      "source": [
        "len(dataset.columns)"
      ],
      "execution_count": 20,
      "outputs": [
        {
          "output_type": "execute_result",
          "data": {
            "text/plain": [
              "75"
            ]
          },
          "metadata": {
            "tags": []
          },
          "execution_count": 20
        }
      ]
    },
    {
      "cell_type": "code",
      "metadata": {
        "id": "Mb5wDfuIqXoW"
      },
      "source": [
        "X = dataset.iloc[:,0:74].values"
      ],
      "execution_count": 21,
      "outputs": []
    },
    {
      "cell_type": "code",
      "metadata": {
        "id": "SepOULyLDQCz",
        "colab": {
          "base_uri": "https://localhost:8080/"
        },
        "outputId": "b150a622-50e8-4c66-d954-a2443e747ef0"
      },
      "source": [
        "X.shape"
      ],
      "execution_count": 22,
      "outputs": [
        {
          "output_type": "execute_result",
          "data": {
            "text/plain": [
              "(5806, 74)"
            ]
          },
          "metadata": {
            "tags": []
          },
          "execution_count": 22
        }
      ]
    },
    {
      "cell_type": "code",
      "metadata": {
        "id": "bhrG8rgDDTdQ",
        "colab": {
          "base_uri": "https://localhost:8080/"
        },
        "outputId": "491c0e1a-bf04-46e2-fecf-88a68fc5b6e1"
      },
      "source": [
        "X"
      ],
      "execution_count": 23,
      "outputs": [
        {
          "output_type": "execute_result",
          "data": {
            "text/plain": [
              "array([[0, 49, False, ..., 0.6400725899947721, 0.5980370415548721,\n",
              "        0.828716381071851],\n",
              "       [0, 56, False, ..., 0.6444645861342442, 0.603041772443901,\n",
              "        0.8093789692710098],\n",
              "       [0, 50, False, ..., 0.6554697130298307, 0.6450420335022421,\n",
              "        0.8260389012547199],\n",
              "       ...,\n",
              "       [78, 0, False, ..., 0.6974661634054785, 0.6739035045452172,\n",
              "        0.8320726536961992],\n",
              "       [95, 0, False, ..., 0.7706773179699052, 0.7100477615788761,\n",
              "        0.8199238314070743],\n",
              "       [53, 0, False, ..., 0.6239306346573744, 0.6331205213003834,\n",
              "        0.7920921058167003]], dtype=object)"
            ]
          },
          "metadata": {
            "tags": []
          },
          "execution_count": 23
        }
      ]
    },
    {
      "cell_type": "code",
      "metadata": {
        "id": "1tZq2ejoDZWk"
      },
      "source": [
        "y = dataset.iloc[:,74].values # Extraindo a coluna que define 'bom' e 'ruim'"
      ],
      "execution_count": 29,
      "outputs": []
    },
    {
      "cell_type": "code",
      "metadata": {
        "id": "GCKnFpZ8Dgwy",
        "colab": {
          "base_uri": "https://localhost:8080/"
        },
        "outputId": "c68a5fe9-55ef-4b2a-f91f-95393aa487eb"
      },
      "source": [
        "y"
      ],
      "execution_count": 30,
      "outputs": [
        {
          "output_type": "execute_result",
          "data": {
            "text/plain": [
              "array(['Bom', 'Bom', 'Bom', ..., 'Bom', 'Ruim', 'Ruim'], dtype=object)"
            ]
          },
          "metadata": {
            "tags": []
          },
          "execution_count": 30
        }
      ]
    },
    {
      "cell_type": "code",
      "metadata": {
        "id": "5Cx5TE4-Dits",
        "colab": {
          "base_uri": "https://localhost:8080/"
        },
        "outputId": "1bdded2c-35ca-4ab6-a1ab-5568e568213c"
      },
      "source": [
        "np.unique(y, return_counts=True)"
      ],
      "execution_count": 31,
      "outputs": [
        {
          "output_type": "execute_result",
          "data": {
            "text/plain": [
              "(array(['Bom', 'Ruim'], dtype=object), array([4299, 1507]))"
            ]
          },
          "metadata": {
            "tags": []
          },
          "execution_count": 31
        }
      ]
    },
    {
      "cell_type": "markdown",
      "metadata": {
        "id": "NFbb9dV1EaLT"
      },
      "source": [
        "## Base de treinamento e teste"
      ]
    },
    {
      "cell_type": "code",
      "metadata": {
        "id": "dpPgFThGD31K"
      },
      "source": [
        "from sklearn.model_selection import train_test_split # Função para fazer amostra estratificada"
      ],
      "execution_count": 32,
      "outputs": []
    },
    {
      "cell_type": "code",
      "metadata": {
        "id": "1wWkySSkEK-C"
      },
      "source": [
        "X_treinamento, X_teste, y_treinamento, y_teste = train_test_split(X, y, test_size = 0.2, stratify = y)"
      ],
      "execution_count": 33,
      "outputs": []
    },
    {
      "cell_type": "code",
      "metadata": {
        "id": "XPFAJJLSEfvA",
        "colab": {
          "base_uri": "https://localhost:8080/"
        },
        "outputId": "e5afdf5f-4aa7-44d6-cfff-365694c112bd"
      },
      "source": [
        "X_treinamento.shape, y_treinamento.shape # 80% da base de dados que será utilizada para treinamento"
      ],
      "execution_count": 34,
      "outputs": [
        {
          "output_type": "execute_result",
          "data": {
            "text/plain": [
              "((4644, 74), (4644,))"
            ]
          },
          "metadata": {
            "tags": []
          },
          "execution_count": 34
        }
      ]
    },
    {
      "cell_type": "code",
      "metadata": {
        "id": "OcybzfVgEn4X",
        "colab": {
          "base_uri": "https://localhost:8080/"
        },
        "outputId": "ccfc2607-2aea-4398-8ba9-9f6e515e1402"
      },
      "source": [
        "X_teste.shape, y_teste.shape # 20% da base de dados que será utilizada para teste"
      ],
      "execution_count": 35,
      "outputs": [
        {
          "output_type": "execute_result",
          "data": {
            "text/plain": [
              "((1162, 74), (1162,))"
            ]
          },
          "metadata": {
            "tags": []
          },
          "execution_count": 35
        }
      ]
    },
    {
      "cell_type": "markdown",
      "metadata": {
        "id": "G3CipcvgGJ-V"
      },
      "source": [
        "## Classificação com Random Forest"
      ]
    },
    {
      "cell_type": "code",
      "metadata": {
        "id": "RT8GaUDpGFLB"
      },
      "source": [
        "from sklearn.ensemble import RandomForestClassifier # Algoritmo para classificação de probabilidades"
      ],
      "execution_count": 43,
      "outputs": []
    },
    {
      "cell_type": "code",
      "metadata": {
        "id": "Yei4cqyuGLqz",
        "colab": {
          "base_uri": "https://localhost:8080/"
        },
        "outputId": "967f8547-5986-4074-b345-8e85d0c50c58"
      },
      "source": [
        "modelo = RandomForestClassifier()\n",
        "modelo.fit(X_treinamento, y_treinamento) # Encaixando o algoritmo Naive Bayes na base de treinamento"
      ],
      "execution_count": 44,
      "outputs": [
        {
          "output_type": "execute_result",
          "data": {
            "text/plain": [
              "RandomForestClassifier(bootstrap=True, ccp_alpha=0.0, class_weight=None,\n",
              "                       criterion='gini', max_depth=None, max_features='auto',\n",
              "                       max_leaf_nodes=None, max_samples=None,\n",
              "                       min_impurity_decrease=0.0, min_impurity_split=None,\n",
              "                       min_samples_leaf=1, min_samples_split=2,\n",
              "                       min_weight_fraction_leaf=0.0, n_estimators=100,\n",
              "                       n_jobs=None, oob_score=False, random_state=None,\n",
              "                       verbose=0, warm_start=False)"
            ]
          },
          "metadata": {
            "tags": []
          },
          "execution_count": 44
        }
      ]
    },
    {
      "cell_type": "code",
      "metadata": {
        "id": "mT_rKAXmGZKQ",
        "colab": {
          "base_uri": "https://localhost:8080/"
        },
        "outputId": "e8c0e131-fcdd-43db-9060-eb41fcc992bb"
      },
      "source": [
        "previsoes = modelo.predict(X_teste) # Fazendo a previsão de cada um dos registros \n",
        "from sklearn.metrics import accuracy_score\n",
        "accuracy_score(previsoes, y_teste)"
      ],
      "execution_count": 46,
      "outputs": [
        {
          "output_type": "execute_result",
          "data": {
            "text/plain": [
              "0.7452667814113597"
            ]
          },
          "metadata": {
            "tags": []
          },
          "execution_count": 46
        }
      ]
    },
    {
      "cell_type": "markdown",
      "metadata": {
        "id": "O3LdjHSOJSb0"
      },
      "source": [
        "## Subamostragem (undersampling) - Tomek links\n",
        "\n",
        "Link para documentação\n",
        "- https://imbalanced-learn.readthedocs.io/en/stable/user_guide.html"
      ]
    },
    {
      "cell_type": "code",
      "metadata": {
        "id": "7euO-JSQLyvl",
        "colab": {
          "base_uri": "https://localhost:8080/"
        },
        "outputId": "69bb3eac-6b28-469e-baf3-fc8b4f060c31"
      },
      "source": [
        "from imblearn.under_sampling import TomekLinks # Técnica para encontrar os registros que são parecidos das duas classes para apagar os registros da classe majoritária"
      ],
      "execution_count": 47,
      "outputs": [
        {
          "output_type": "stream",
          "text": [
            "/usr/local/lib/python3.7/dist-packages/sklearn/externals/six.py:31: FutureWarning: The module is deprecated in version 0.21 and will be removed in version 0.23 since we've dropped support for Python 2.7. Please rely on the official version of six (https://pypi.org/project/six/).\n",
            "  \"(https://pypi.org/project/six/).\", FutureWarning)\n",
            "/usr/local/lib/python3.7/dist-packages/sklearn/utils/deprecation.py:144: FutureWarning: The sklearn.neighbors.base module is  deprecated in version 0.22 and will be removed in version 0.24. The corresponding classes / functions should instead be imported from sklearn.neighbors. Anything that cannot be imported from sklearn.neighbors is now part of the private API.\n",
            "  warnings.warn(message, FutureWarning)\n"
          ],
          "name": "stderr"
        }
      ]
    },
    {
      "cell_type": "code",
      "metadata": {
        "id": "6nzI6h5GMBto",
        "colab": {
          "base_uri": "https://localhost:8080/"
        },
        "outputId": "e2b4eaa0-3941-4f6b-949d-487a885c67c0"
      },
      "source": [
        "tl = TomekLinks(sampling_strategy='majority') # 'majority' ira apagar somente os registros da classe majoritária\n",
        "X_under, y_under = tl.fit_sample(X, y) "
      ],
      "execution_count": 48,
      "outputs": [
        {
          "output_type": "stream",
          "text": [
            "/usr/local/lib/python3.7/dist-packages/sklearn/utils/deprecation.py:87: FutureWarning: Function safe_indexing is deprecated; safe_indexing is deprecated in version 0.22 and will be removed in version 0.24.\n",
            "  warnings.warn(msg, category=FutureWarning)\n"
          ],
          "name": "stderr"
        }
      ]
    },
    {
      "cell_type": "code",
      "metadata": {
        "id": "gv6iPNX5Mren",
        "colab": {
          "base_uri": "https://localhost:8080/"
        },
        "outputId": "220d91ec-77b8-4c9d-9597-4e405fc65796"
      },
      "source": [
        "X_under.shape, y_under.shape # Removeu 100 registros da base de dados de classe 0"
      ],
      "execution_count": 49,
      "outputs": [
        {
          "output_type": "execute_result",
          "data": {
            "text/plain": [
              "((5417, 74), (5417,))"
            ]
          },
          "metadata": {
            "tags": []
          },
          "execution_count": 49
        }
      ]
    },
    {
      "cell_type": "code",
      "metadata": {
        "id": "j3tJD1SkNAzW",
        "colab": {
          "base_uri": "https://localhost:8080/"
        },
        "outputId": "f0fa8853-ce15-4255-a0b6-b074f78d9db2"
      },
      "source": [
        "np.unique(y, return_counts=True)"
      ],
      "execution_count": 50,
      "outputs": [
        {
          "output_type": "execute_result",
          "data": {
            "text/plain": [
              "(array(['Bom', 'Ruim'], dtype=object), array([4299, 1507]))"
            ]
          },
          "metadata": {
            "tags": []
          },
          "execution_count": 50
        }
      ]
    },
    {
      "cell_type": "code",
      "metadata": {
        "id": "HKn8t_YxNFo6",
        "colab": {
          "base_uri": "https://localhost:8080/"
        },
        "outputId": "d89ddc97-ad1f-4b29-9003-0540678bab9c"
      },
      "source": [
        "np.unique(y_under, return_counts=True)"
      ],
      "execution_count": 52,
      "outputs": [
        {
          "output_type": "execute_result",
          "data": {
            "text/plain": [
              "(array(['Bom', 'Ruim'], dtype=object), array([3910, 1507]))"
            ]
          },
          "metadata": {
            "tags": []
          },
          "execution_count": 52
        }
      ]
    },
    {
      "cell_type": "code",
      "metadata": {
        "id": "WTg10B05NOAC",
        "colab": {
          "base_uri": "https://localhost:8080/"
        },
        "outputId": "3f8eecdd-c1fe-4364-a640-b619ebc217fd"
      },
      "source": [
        "X_treinamento_u, X_teste_u, y_treinamento_u, y_teste_u = train_test_split(X_under,\n",
        "                                                                          y_under,\n",
        "                                                                          test_size=0.2,\n",
        "                                                                          stratify=y_under)\n",
        "X_treinamento_u.shape, X_teste_u.shape"
      ],
      "execution_count": 53,
      "outputs": [
        {
          "output_type": "execute_result",
          "data": {
            "text/plain": [
              "((4333, 74), (1084, 74))"
            ]
          },
          "metadata": {
            "tags": []
          },
          "execution_count": 53
        }
      ]
    },
    {
      "cell_type": "code",
      "metadata": {
        "id": "4L5t35-fOlE2",
        "colab": {
          "base_uri": "https://localhost:8080/"
        },
        "outputId": "3b90fbb5-3f83-42d9-ae3f-ff0459c67d13"
      },
      "source": [
        "modelo_u = RandomForestClassifier()\n",
        "modelo_u.fit(X_treinamento_u, y_treinamento_u)\n",
        "previsoes_u = modelo_u.predict(X_teste_u)\n",
        "accuracy_score(previsoes_u, y_teste_u)"
      ],
      "execution_count": 55,
      "outputs": [
        {
          "output_type": "execute_result",
          "data": {
            "text/plain": [
              "0.7324723247232472"
            ]
          },
          "metadata": {
            "tags": []
          },
          "execution_count": 55
        }
      ]
    },
    {
      "cell_type": "markdown",
      "metadata": {
        "id": "F3mmQGLHQvLr"
      },
      "source": [
        "## Sobreamostragem (oversampling) - SMOTE"
      ]
    },
    {
      "cell_type": "code",
      "metadata": {
        "id": "afZorNsRP2ZO"
      },
      "source": [
        "from imblearn.over_sampling import SMOTE"
      ],
      "execution_count": 56,
      "outputs": []
    },
    {
      "cell_type": "code",
      "metadata": {
        "id": "-dqqqfx4P8BS",
        "colab": {
          "base_uri": "https://localhost:8080/"
        },
        "outputId": "37c44c63-9bbc-401b-acc7-1a81ef3cbf61"
      },
      "source": [
        "smote = SMOTE(sampling_strategy='minority') # Criação do algoritmo 'smote'\n",
        "X_over, y_over = smote.fit_sample(X, y)"
      ],
      "execution_count": 57,
      "outputs": [
        {
          "output_type": "stream",
          "text": [
            "/usr/local/lib/python3.7/dist-packages/sklearn/utils/deprecation.py:87: FutureWarning: Function safe_indexing is deprecated; safe_indexing is deprecated in version 0.22 and will be removed in version 0.24.\n",
            "  warnings.warn(msg, category=FutureWarning)\n"
          ],
          "name": "stderr"
        }
      ]
    },
    {
      "cell_type": "code",
      "metadata": {
        "id": "ARlvsdYbQN50",
        "colab": {
          "base_uri": "https://localhost:8080/"
        },
        "outputId": "85e2e8d2-5e44-4c3b-a3ac-3a446f7e56e6"
      },
      "source": [
        "X_over.shape, y_over.shape"
      ],
      "execution_count": 58,
      "outputs": [
        {
          "output_type": "execute_result",
          "data": {
            "text/plain": [
              "((8598, 74), (8598,))"
            ]
          },
          "metadata": {
            "tags": []
          },
          "execution_count": 58
        }
      ]
    },
    {
      "cell_type": "code",
      "metadata": {
        "id": "yDjesKDwQUJQ",
        "colab": {
          "base_uri": "https://localhost:8080/"
        },
        "outputId": "fd20498a-3047-485f-a00a-eeb8a56a4d45"
      },
      "source": [
        "np.unique(y, return_counts=True)"
      ],
      "execution_count": 59,
      "outputs": [
        {
          "output_type": "execute_result",
          "data": {
            "text/plain": [
              "(array(['Bom', 'Ruim'], dtype=object), array([4299, 1507]))"
            ]
          },
          "metadata": {
            "tags": []
          },
          "execution_count": 59
        }
      ]
    },
    {
      "cell_type": "code",
      "metadata": {
        "id": "StbCHeZSQYd3",
        "colab": {
          "base_uri": "https://localhost:8080/"
        },
        "outputId": "223744d3-09ee-47fd-a9d5-18e81b48f8f7"
      },
      "source": [
        "np.unique(y_over, return_counts=True)"
      ],
      "execution_count": 60,
      "outputs": [
        {
          "output_type": "execute_result",
          "data": {
            "text/plain": [
              "(array(['Bom', 'Ruim'], dtype=object), array([4299, 4299]))"
            ]
          },
          "metadata": {
            "tags": []
          },
          "execution_count": 60
        }
      ]
    },
    {
      "cell_type": "code",
      "metadata": {
        "id": "6CQ2NDEUQiZG"
      },
      "source": [
        "X_treinamento_o, X_teste_o, y_treinamento_o, y_teste_o = train_test_split(X_over, y_over,\n",
        "                                                                          test_size = 0.2,\n",
        "                                                                          stratify=y_over)"
      ],
      "execution_count": 61,
      "outputs": []
    },
    {
      "cell_type": "code",
      "metadata": {
        "id": "xkvfX533QvQ8",
        "colab": {
          "base_uri": "https://localhost:8080/"
        },
        "outputId": "d9465837-7a3e-4aae-9af0-4f520b2047f5"
      },
      "source": [
        "X_treinamento_o.shape, X_teste_o.shape"
      ],
      "execution_count": 62,
      "outputs": [
        {
          "output_type": "execute_result",
          "data": {
            "text/plain": [
              "((6878, 74), (1720, 74))"
            ]
          },
          "metadata": {
            "tags": []
          },
          "execution_count": 62
        }
      ]
    },
    {
      "cell_type": "code",
      "metadata": {
        "id": "2NGU_s0rQ04G",
        "colab": {
          "base_uri": "https://localhost:8080/"
        },
        "outputId": "f24dcceb-d80a-4dd7-cb6b-34c281924855"
      },
      "source": [
        "modelo_o = RandomForestClassifier()\n",
        "modelo_o.fit(X_treinamento_o, y_treinamento_o)\n",
        "previsoes_o = modelo_o.predict(X_teste_o)\n",
        "accuracy_score(previsoes_o, y_teste_o)"
      ],
      "execution_count": 63,
      "outputs": [
        {
          "output_type": "execute_result",
          "data": {
            "text/plain": [
              "0.8209302325581396"
            ]
          },
          "metadata": {
            "tags": []
          },
          "execution_count": 63
        }
      ]
    },
    {
      "cell_type": "markdown",
      "metadata": {
        "id": "IKybLk0ttlcW"
      },
      "source": [
        "**Pode-se concluir que com a subamostragem pode-se obter o melhor resultado (aproximadamente 82%)**"
      ]
    }
  ]
}