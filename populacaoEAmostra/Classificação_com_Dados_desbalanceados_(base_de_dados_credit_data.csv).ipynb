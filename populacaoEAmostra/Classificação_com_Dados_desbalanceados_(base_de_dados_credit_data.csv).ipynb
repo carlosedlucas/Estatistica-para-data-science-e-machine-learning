{
  "nbformat": 4,
  "nbformat_minor": 0,
  "metadata": {
    "colab": {
      "name": "Classificação com Dados desbalanceados (base de dados credit data).ipynb",
      "provenance": [],
      "collapsed_sections": [],
      "toc_visible": true
    },
    "kernelspec": {
      "name": "python3",
      "display_name": "Python 3"
    }
  },
  "cells": [
    {
      "cell_type": "markdown",
      "metadata": {
        "id": "bnzPmx8P52UF"
      },
      "source": [
        "# Classificação com dados desbalanceados"
      ]
    },
    {
      "cell_type": "markdown",
      "metadata": {
        "id": "DTxzWPl_Vel4"
      },
      "source": [
        "## Carregamento da base de dados"
      ]
    },
    {
      "cell_type": "code",
      "metadata": {
        "id": "NudHlvMHBTlS"
      },
      "source": [
        "import pandas as pd\n",
        "import random\n",
        "import numpy as np"
      ],
      "execution_count": 1,
      "outputs": []
    },
    {
      "cell_type": "code",
      "metadata": {
        "id": "gqH_zFo9Bbih"
      },
      "source": [
        "dataset = pd.read_csv('credit_data.csv')"
      ],
      "execution_count": 3,
      "outputs": []
    },
    {
      "cell_type": "code",
      "metadata": {
        "id": "8iqh9PC7Bj-B",
        "colab": {
          "base_uri": "https://localhost:8080/"
        },
        "outputId": "f9ad3e63-60c0-4cf2-922f-1a76509a5186"
      },
      "source": [
        "dataset.shape"
      ],
      "execution_count": 5,
      "outputs": [
        {
          "output_type": "execute_result",
          "data": {
            "text/plain": [
              "(2000, 5)"
            ]
          },
          "metadata": {
            "tags": []
          },
          "execution_count": 5
        }
      ]
    },
    {
      "cell_type": "code",
      "metadata": {
        "id": "71gReO7sBnYn",
        "colab": {
          "base_uri": "https://localhost:8080/",
          "height": 197
        },
        "outputId": "3e302780-c3e1-4b30-e4a9-17ad1abe18d1"
      },
      "source": [
        "dataset.head()"
      ],
      "execution_count": 6,
      "outputs": [
        {
          "output_type": "execute_result",
          "data": {
            "text/html": [
              "<div>\n",
              "<style scoped>\n",
              "    .dataframe tbody tr th:only-of-type {\n",
              "        vertical-align: middle;\n",
              "    }\n",
              "\n",
              "    .dataframe tbody tr th {\n",
              "        vertical-align: top;\n",
              "    }\n",
              "\n",
              "    .dataframe thead th {\n",
              "        text-align: right;\n",
              "    }\n",
              "</style>\n",
              "<table border=\"1\" class=\"dataframe\">\n",
              "  <thead>\n",
              "    <tr style=\"text-align: right;\">\n",
              "      <th></th>\n",
              "      <th>i#clientid</th>\n",
              "      <th>income</th>\n",
              "      <th>age</th>\n",
              "      <th>loan</th>\n",
              "      <th>c#default</th>\n",
              "    </tr>\n",
              "  </thead>\n",
              "  <tbody>\n",
              "    <tr>\n",
              "      <th>0</th>\n",
              "      <td>1</td>\n",
              "      <td>66155.925095</td>\n",
              "      <td>59.017015</td>\n",
              "      <td>8106.532131</td>\n",
              "      <td>0</td>\n",
              "    </tr>\n",
              "    <tr>\n",
              "      <th>1</th>\n",
              "      <td>2</td>\n",
              "      <td>34415.153966</td>\n",
              "      <td>48.117153</td>\n",
              "      <td>6564.745018</td>\n",
              "      <td>0</td>\n",
              "    </tr>\n",
              "    <tr>\n",
              "      <th>2</th>\n",
              "      <td>3</td>\n",
              "      <td>57317.170063</td>\n",
              "      <td>63.108049</td>\n",
              "      <td>8020.953296</td>\n",
              "      <td>0</td>\n",
              "    </tr>\n",
              "    <tr>\n",
              "      <th>3</th>\n",
              "      <td>4</td>\n",
              "      <td>42709.534201</td>\n",
              "      <td>45.751972</td>\n",
              "      <td>6103.642260</td>\n",
              "      <td>0</td>\n",
              "    </tr>\n",
              "    <tr>\n",
              "      <th>4</th>\n",
              "      <td>5</td>\n",
              "      <td>66952.688845</td>\n",
              "      <td>18.584336</td>\n",
              "      <td>8770.099235</td>\n",
              "      <td>1</td>\n",
              "    </tr>\n",
              "  </tbody>\n",
              "</table>\n",
              "</div>"
            ],
            "text/plain": [
              "   i#clientid        income        age         loan  c#default\n",
              "0           1  66155.925095  59.017015  8106.532131          0\n",
              "1           2  34415.153966  48.117153  6564.745018          0\n",
              "2           3  57317.170063  63.108049  8020.953296          0\n",
              "3           4  42709.534201  45.751972  6103.642260          0\n",
              "4           5  66952.688845  18.584336  8770.099235          1"
            ]
          },
          "metadata": {
            "tags": []
          },
          "execution_count": 6
        }
      ]
    },
    {
      "cell_type": "code",
      "metadata": {
        "id": "GVPKQSk6BwsC",
        "colab": {
          "base_uri": "https://localhost:8080/"
        },
        "outputId": "1b29e70c-433b-4de1-a095-ebb0fb95a0a3"
      },
      "source": [
        "dataset.dropna(inplace=True) # Retirando dados nulos\n",
        "dataset.shape"
      ],
      "execution_count": 13,
      "outputs": [
        {
          "output_type": "execute_result",
          "data": {
            "text/plain": [
              "(1997, 5)"
            ]
          },
          "metadata": {
            "tags": []
          },
          "execution_count": 13
        }
      ]
    },
    {
      "cell_type": "code",
      "metadata": {
        "id": "nvcT491qB-AJ",
        "colab": {
          "base_uri": "https://localhost:8080/",
          "height": 278
        },
        "outputId": "d77fa391-5542-4c9c-b5e9-ee5b3102170f"
      },
      "source": [
        "import seaborn as sns\n",
        "sns.countplot(x=dataset['c#default']); # Plotando gráfico da coluna 'c#default'"
      ],
      "execution_count": 15,
      "outputs": [
        {
          "output_type": "display_data",
          "data": {
            "image/png": "[encoded data removed]",
            "text/plain": [
              "<Figure size 432x288 with 1 Axes>"
            ]
          },
          "metadata": {
            "tags": [],
            "needs_background": "light"
          }
        }
      ]
    },
    {
      "cell_type": "code",
      "metadata": {
        "id": "dnnAJQ-lDB9W"
      },
      "source": [
        "X = dataset.iloc[:, 1:4].values # Colocando as 3 colunas e seus valores na variável 'X'"
      ],
      "execution_count": 16,
      "outputs": []
    },
    {
      "cell_type": "code",
      "metadata": {
        "id": "SepOULyLDQCz",
        "colab": {
          "base_uri": "https://localhost:8080/"
        },
        "outputId": "50f06093-71d7-4fb1-92d9-7d5abc134386"
      },
      "source": [
        "X.shape"
      ],
      "execution_count": 17,
      "outputs": [
        {
          "output_type": "execute_result",
          "data": {
            "text/plain": [
              "(1997, 3)"
            ]
          },
          "metadata": {
            "tags": []
          },
          "execution_count": 17
        }
      ]
    },
    {
      "cell_type": "code",
      "metadata": {
        "id": "bhrG8rgDDTdQ",
        "colab": {
          "base_uri": "https://localhost:8080/"
        },
        "outputId": "7368fc9b-88a0-49b7-9310-f56ebdbb2f36"
      },
      "source": [
        "X"
      ],
      "execution_count": 18,
      "outputs": [
        {
          "output_type": "execute_result",
          "data": {
            "text/plain": [
              "array([[6.61559251e+04, 5.90170151e+01, 8.10653213e+03],\n",
              "       [3.44151540e+04, 4.81171531e+01, 6.56474502e+03],\n",
              "       [5.73171701e+04, 6.31080495e+01, 8.02095330e+03],\n",
              "       ...,\n",
              "       [4.43114493e+04, 2.80171669e+01, 5.52278669e+03],\n",
              "       [4.37560566e+04, 6.39717958e+01, 1.62272260e+03],\n",
              "       [6.94365796e+04, 5.61526170e+01, 7.37883360e+03]])"
            ]
          },
          "metadata": {
            "tags": []
          },
          "execution_count": 18
        }
      ]
    },
    {
      "cell_type": "code",
      "metadata": {
        "id": "1tZq2ejoDZWk"
      },
      "source": [
        "y = dataset.iloc[:, 4].values # Retirando somente a coluna 4 e inserindo na variável 'y'"
      ],
      "execution_count": 19,
      "outputs": []
    },
    {
      "cell_type": "code",
      "metadata": {
        "id": "GCKnFpZ8Dgwy",
        "colab": {
          "base_uri": "https://localhost:8080/"
        },
        "outputId": "eafd47fb-1b0c-4bd6-b1a3-ebf360046f2f"
      },
      "source": [
        "y.shape"
      ],
      "execution_count": 20,
      "outputs": [
        {
          "output_type": "execute_result",
          "data": {
            "text/plain": [
              "(1997,)"
            ]
          },
          "metadata": {
            "tags": []
          },
          "execution_count": 20
        }
      ]
    },
    {
      "cell_type": "code",
      "metadata": {
        "id": "5Cx5TE4-Dits",
        "colab": {
          "base_uri": "https://localhost:8080/"
        },
        "outputId": "5195d6c8-ce61-4f6b-9eb9-c7c508c5337d"
      },
      "source": [
        "y"
      ],
      "execution_count": 22,
      "outputs": [
        {
          "output_type": "execute_result",
          "data": {
            "text/plain": [
              "array([0, 0, 0, ..., 1, 0, 0])"
            ]
          },
          "metadata": {
            "tags": []
          },
          "execution_count": 22
        }
      ]
    },
    {
      "cell_type": "markdown",
      "metadata": {
        "id": "NFbb9dV1EaLT"
      },
      "source": [
        "## Base de treinamento e teste"
      ]
    },
    {
      "cell_type": "code",
      "metadata": {
        "id": "dpPgFThGD31K"
      },
      "source": [
        "from sklearn.model_selection import train_test_split # Função para fazer amostra estratificada"
      ],
      "execution_count": 25,
      "outputs": []
    },
    {
      "cell_type": "code",
      "metadata": {
        "id": "1wWkySSkEK-C"
      },
      "source": [
        "X_treinamento, X_teste, y_treinamento, y_teste = train_test_split(X, y, test_size = 0.2, stratify = y)"
      ],
      "execution_count": 36,
      "outputs": []
    },
    {
      "cell_type": "code",
      "metadata": {
        "id": "XPFAJJLSEfvA",
        "colab": {
          "base_uri": "https://localhost:8080/"
        },
        "outputId": "ff88bdce-fc8e-4451-a2a8-efc69f8b28b7"
      },
      "source": [
        "X_treinamento.shape, y_treinamento.shape # 80% da base de dados que será utilizada para treinamento"
      ],
      "execution_count": 37,
      "outputs": [
        {
          "output_type": "execute_result",
          "data": {
            "text/plain": [
              "((1597, 3), (1597,))"
            ]
          },
          "metadata": {
            "tags": []
          },
          "execution_count": 37
        }
      ]
    },
    {
      "cell_type": "code",
      "metadata": {
        "id": "OcybzfVgEn4X",
        "colab": {
          "base_uri": "https://localhost:8080/"
        },
        "outputId": "5e4e8a6b-475e-468a-8718-06808714fa92"
      },
      "source": [
        "X_teste.shape, y_teste.shape # 20% da base de dados que será utilizada para teste"
      ],
      "execution_count": 28,
      "outputs": [
        {
          "output_type": "execute_result",
          "data": {
            "text/plain": [
              "((400, 3), (400,))"
            ]
          },
          "metadata": {
            "tags": []
          },
          "execution_count": 28
        }
      ]
    },
    {
      "cell_type": "code",
      "metadata": {
        "id": "de3wr-qNExjP",
        "colab": {
          "base_uri": "https://localhost:8080/"
        },
        "outputId": "4d4db7b1-f5c7-4a15-b393-bbefb88d2ba2"
      },
      "source": [
        "np.unique(y, return_counts=True)"
      ],
      "execution_count": 38,
      "outputs": [
        {
          "output_type": "execute_result",
          "data": {
            "text/plain": [
              "(array([0, 1]), array([1714,  283]))"
            ]
          },
          "metadata": {
            "tags": []
          },
          "execution_count": 38
        }
      ]
    },
    {
      "cell_type": "code",
      "metadata": {
        "id": "02IABsqmE6Hz",
        "colab": {
          "base_uri": "https://localhost:8080/"
        },
        "outputId": "309ed7e0-7462-42bf-d4fe-a56523e10e1b"
      },
      "source": [
        "1714 / len(dataset), 283 / len(dataset) # Isso demonstra que os clientes que pagam o empréstimo (classe 0) representam 85% da base de dados e os clientes que não pagam empréstimo (classe 1) representam 14% da base de dados"
      ],
      "execution_count": 39,
      "outputs": [
        {
          "output_type": "execute_result",
          "data": {
            "text/plain": [
              "(0.8582874311467201, 0.14171256885327993)"
            ]
          },
          "metadata": {
            "tags": []
          },
          "execution_count": 39
        }
      ]
    },
    {
      "cell_type": "code",
      "metadata": {
        "id": "UZuSePYMFJUw",
        "colab": {
          "base_uri": "https://localhost:8080/"
        },
        "outputId": "bed3af0d-db8c-4805-bb49-f252bfc61091"
      },
      "source": [
        "np.unique(y_treinamento, return_counts=True)"
      ],
      "execution_count": 41,
      "outputs": [
        {
          "output_type": "execute_result",
          "data": {
            "text/plain": [
              "(array([0, 1]), array([1371,  226]))"
            ]
          },
          "metadata": {
            "tags": []
          },
          "execution_count": 41
        }
      ]
    },
    {
      "cell_type": "code",
      "metadata": {
        "id": "vdyeXcD8FX4C",
        "colab": {
          "base_uri": "https://localhost:8080/"
        },
        "outputId": "8eb758d7-8302-4925-e1e3-8508a50b44ee"
      },
      "source": [
        "226 / len(y_treinamento) # Indica que a amostra estratificada foi feita corretamente"
      ],
      "execution_count": 42,
      "outputs": [
        {
          "output_type": "execute_result",
          "data": {
            "text/plain": [
              "0.14151534126487164"
            ]
          },
          "metadata": {
            "tags": []
          },
          "execution_count": 42
        }
      ]
    },
    {
      "cell_type": "code",
      "metadata": {
        "id": "cfIrILE6FdyZ",
        "colab": {
          "base_uri": "https://localhost:8080/"
        },
        "outputId": "1480d70a-404f-48ef-97bc-31414d702d71"
      },
      "source": [
        "np.unique(y_teste, return_counts=True)"
      ],
      "execution_count": 44,
      "outputs": [
        {
          "output_type": "execute_result",
          "data": {
            "text/plain": [
              "(array([0, 1]), array([343,  57]))"
            ]
          },
          "metadata": {
            "tags": []
          },
          "execution_count": 44
        }
      ]
    },
    {
      "cell_type": "code",
      "metadata": {
        "id": "gFwlnLf6Fhs_",
        "colab": {
          "base_uri": "https://localhost:8080/"
        },
        "outputId": "0c86f3b9-d199-438b-ee49-43b31a6b99a1"
      },
      "source": [
        "57 / len(y_teste)"
      ],
      "execution_count": 43,
      "outputs": [
        {
          "output_type": "execute_result",
          "data": {
            "text/plain": [
              "0.1425"
            ]
          },
          "metadata": {
            "tags": []
          },
          "execution_count": 43
        }
      ]
    },
    {
      "cell_type": "markdown",
      "metadata": {
        "id": "G3CipcvgGJ-V"
      },
      "source": [
        "## Classificação com Naïve Bayes"
      ]
    },
    {
      "cell_type": "code",
      "metadata": {
        "id": "RT8GaUDpGFLB"
      },
      "source": [
        "from sklearn.naive_bayes import GaussianNB # Algoritmo para classificação de probabilidades"
      ],
      "execution_count": 45,
      "outputs": []
    },
    {
      "cell_type": "code",
      "metadata": {
        "id": "Yei4cqyuGLqz",
        "colab": {
          "base_uri": "https://localhost:8080/"
        },
        "outputId": "7b909e24-a9fe-4a83-d76b-ae1267e1d380"
      },
      "source": [
        "modelo = GaussianNB()\n",
        "modelo.fit(X_treinamento, y_treinamento) # Encaixando o algoritmo Naive Bayes na base de treinamento"
      ],
      "execution_count": 50,
      "outputs": [
        {
          "output_type": "execute_result",
          "data": {
            "text/plain": [
              "GaussianNB(priors=None, var_smoothing=1e-09)"
            ]
          },
          "metadata": {
            "tags": []
          },
          "execution_count": 50
        }
      ]
    },
    {
      "cell_type": "code",
      "metadata": {
        "id": "mT_rKAXmGZKQ"
      },
      "source": [
        "previsoes = modelo.predict(X_teste) # Fazendo a previsão de cada um dos registros "
      ],
      "execution_count": 53,
      "outputs": []
    },
    {
      "cell_type": "code",
      "metadata": {
        "id": "OWprc3IVGhyW",
        "colab": {
          "base_uri": "https://localhost:8080/"
        },
        "outputId": "de90802c-2b96-4afe-c29c-cf393a6e16e7"
      },
      "source": [
        "previsoes"
      ],
      "execution_count": 52,
      "outputs": [
        {
          "output_type": "execute_result",
          "data": {
            "text/plain": [
              "array([0, 0, 0, 0, 0, 0, 1, 1, 0, 0, 0, 0, 0, 0, 0, 0, 0, 0, 0, 0, 0, 0,\n",
              "       0, 0, 0, 0, 0, 0, 0, 0, 1, 0, 0, 0, 0, 0, 0, 0, 0, 0, 0, 0, 0, 0,\n",
              "       0, 0, 0, 0, 0, 0, 0, 0, 0, 1, 0, 1, 0, 0, 0, 0, 0, 0, 0, 0, 0, 0,\n",
              "       0, 0, 0, 0, 0, 0, 0, 0, 1, 0, 1, 0, 0, 0, 0, 0, 0, 1, 0, 0, 0, 0,\n",
              "       0, 0, 0, 0, 1, 0, 1, 0, 0, 0, 0, 0, 0, 0, 0, 0, 0, 1, 0, 0, 0, 0,\n",
              "       0, 1, 0, 0, 0, 0, 0, 0, 0, 0, 0, 0, 0, 0, 0, 0, 0, 0, 0, 0, 0, 0,\n",
              "       0, 0, 0, 0, 1, 0, 0, 0, 0, 0, 0, 0, 0, 0, 0, 0, 0, 0, 0, 0, 0, 0,\n",
              "       0, 0, 0, 1, 0, 0, 0, 0, 0, 0, 0, 0, 0, 1, 0, 0, 0, 1, 0, 0, 0, 0,\n",
              "       0, 0, 0, 0, 0, 1, 0, 0, 0, 0, 0, 1, 0, 0, 0, 0, 0, 0, 0, 0, 0, 0,\n",
              "       0, 0, 1, 0, 0, 0, 0, 0, 0, 0, 0, 0, 0, 0, 0, 0, 0, 0, 0, 0, 0, 0,\n",
              "       1, 0, 0, 1, 0, 1, 0, 0, 0, 0, 0, 0, 0, 0, 1, 0, 0, 0, 0, 0, 0, 0,\n",
              "       0, 0, 0, 0, 0, 0, 0, 0, 1, 0, 0, 1, 0, 0, 0, 0, 0, 0, 0, 1, 0, 0,\n",
              "       0, 0, 0, 0, 0, 0, 0, 0, 0, 0, 0, 0, 0, 0, 0, 0, 0, 0, 0, 0, 0, 0,\n",
              "       0, 0, 0, 1, 0, 0, 0, 1, 0, 0, 0, 0, 0, 0, 0, 0, 0, 0, 0, 0, 1, 0,\n",
              "       0, 0, 0, 0, 0, 0, 1, 0, 0, 0, 0, 0, 0, 0, 0, 0, 1, 0, 0, 0, 0, 0,\n",
              "       0, 0, 0, 0, 0, 0, 0, 0, 0, 1, 0, 0, 0, 0, 0, 0, 0, 0, 0, 0, 0, 0,\n",
              "       0, 0, 0, 0, 0, 0, 1, 0, 0, 0, 0, 0, 0, 0, 0, 0, 0, 0, 0, 0, 0, 0,\n",
              "       0, 0, 0, 0, 0, 0, 1, 0, 0, 0, 0, 0, 0, 0, 0, 1, 0, 0, 0, 1, 0, 1,\n",
              "       0, 1, 0, 0])"
            ]
          },
          "metadata": {
            "tags": []
          },
          "execution_count": 52
        }
      ]
    },
    {
      "cell_type": "code",
      "metadata": {
        "id": "NwS4SpwpGnjr",
        "colab": {
          "base_uri": "https://localhost:8080/"
        },
        "outputId": "937ce8b5-9829-4907-fbb8-defc9d2246c4"
      },
      "source": [
        "y_teste"
      ],
      "execution_count": 54,
      "outputs": [
        {
          "output_type": "execute_result",
          "data": {
            "text/plain": [
              "array([0, 0, 1, 0, 0, 0, 0, 1, 0, 0, 0, 0, 0, 0, 0, 0, 0, 0, 0, 0, 0, 0,\n",
              "       0, 0, 0, 0, 0, 0, 0, 0, 1, 0, 0, 0, 1, 0, 0, 0, 0, 0, 0, 0, 0, 0,\n",
              "       0, 0, 1, 0, 0, 0, 0, 0, 0, 1, 0, 1, 0, 0, 0, 0, 0, 0, 0, 0, 0, 0,\n",
              "       0, 0, 0, 0, 0, 0, 0, 0, 1, 1, 1, 0, 0, 1, 0, 0, 0, 0, 0, 0, 0, 0,\n",
              "       0, 0, 0, 0, 1, 0, 1, 0, 0, 0, 0, 0, 0, 0, 0, 0, 0, 1, 0, 0, 0, 0,\n",
              "       0, 1, 0, 0, 0, 0, 0, 0, 1, 0, 0, 0, 0, 1, 1, 0, 0, 0, 0, 0, 0, 0,\n",
              "       0, 0, 0, 0, 1, 0, 0, 0, 0, 0, 0, 0, 0, 0, 0, 0, 0, 0, 0, 0, 0, 0,\n",
              "       0, 1, 0, 1, 0, 0, 0, 0, 0, 0, 0, 0, 0, 1, 0, 0, 0, 1, 0, 0, 0, 0,\n",
              "       0, 0, 0, 0, 0, 1, 0, 0, 0, 0, 0, 1, 0, 0, 0, 0, 0, 0, 0, 0, 1, 0,\n",
              "       0, 0, 1, 0, 0, 0, 0, 0, 0, 0, 0, 0, 0, 0, 0, 0, 0, 0, 0, 0, 0, 1,\n",
              "       1, 0, 0, 1, 0, 1, 0, 0, 0, 0, 0, 0, 0, 0, 1, 0, 0, 0, 0, 0, 0, 0,\n",
              "       0, 0, 0, 0, 0, 0, 1, 1, 1, 0, 0, 1, 0, 0, 0, 0, 0, 0, 0, 1, 0, 0,\n",
              "       0, 0, 0, 0, 0, 0, 0, 0, 0, 1, 0, 0, 0, 0, 1, 0, 0, 1, 0, 0, 0, 0,\n",
              "       0, 0, 0, 1, 0, 0, 0, 1, 0, 0, 0, 0, 0, 0, 0, 0, 0, 0, 0, 0, 0, 0,\n",
              "       0, 0, 0, 0, 0, 0, 1, 1, 1, 0, 1, 0, 0, 0, 0, 0, 1, 0, 0, 0, 0, 0,\n",
              "       0, 0, 0, 0, 0, 0, 0, 0, 0, 1, 0, 0, 0, 0, 1, 0, 0, 0, 0, 0, 0, 0,\n",
              "       0, 1, 0, 0, 0, 0, 1, 0, 0, 0, 0, 0, 0, 0, 0, 0, 0, 0, 0, 0, 0, 0,\n",
              "       0, 0, 1, 1, 0, 0, 0, 0, 0, 0, 0, 0, 0, 0, 0, 1, 0, 0, 0, 1, 0, 1,\n",
              "       0, 1, 0, 0])"
            ]
          },
          "metadata": {
            "tags": []
          },
          "execution_count": 54
        }
      ]
    },
    {
      "cell_type": "code",
      "metadata": {
        "id": "Nmih2IpwGz7_"
      },
      "source": [
        "from sklearn.metrics import accuracy_score # Função para fazer comparativo entre o que o algoritmo classificou corretamente e o resultado real"
      ],
      "execution_count": 60,
      "outputs": []
    },
    {
      "cell_type": "code",
      "metadata": {
        "id": "ZH1bUOzOG5cY",
        "colab": {
          "base_uri": "https://localhost:8080/"
        },
        "outputId": "f477f1f5-ecfd-46b1-a127-ee38430a82c9"
      },
      "source": [
        "accuracy_score(previsoes, y_teste)"
      ],
      "execution_count": 61,
      "outputs": [
        {
          "output_type": "execute_result",
          "data": {
            "text/plain": [
              "0.9325"
            ]
          },
          "metadata": {
            "tags": []
          },
          "execution_count": 61
        }
      ]
    },
    {
      "cell_type": "code",
      "metadata": {
        "id": "9Tf5GoSiHAhf"
      },
      "source": [
        "from sklearn.metrics import confusion_matrix # Algoritmo para gerar matriz de confusão"
      ],
      "execution_count": 62,
      "outputs": []
    },
    {
      "cell_type": "code",
      "metadata": {
        "id": "hPLRi2RRHE-S",
        "colab": {
          "base_uri": "https://localhost:8080/"
        },
        "outputId": "af447f7f-1296-4d32-d7d8-4c6e590a3b2d"
      },
      "source": [
        "cm = confusion_matrix(previsoes, y_teste) # Divisão dos registros classificados corretamente e incorretamente\n",
        "cm"
      ],
      "execution_count": 65,
      "outputs": [
        {
          "output_type": "execute_result",
          "data": {
            "text/plain": [
              "array([[339,  23],\n",
              "       [  4,  34]])"
            ]
          },
          "metadata": {
            "tags": []
          },
          "execution_count": 65
        }
      ]
    },
    {
      "cell_type": "code",
      "metadata": {
        "id": "QcrAEZDGHOxF",
        "colab": {
          "base_uri": "https://localhost:8080/",
          "height": 264
        },
        "outputId": "28eaf2be-07dd-457f-f4d7-1d37dfc4c474"
      },
      "source": [
        "sns.heatmap(cm, annot=True);"
      ],
      "execution_count": 66,
      "outputs": [
        {
          "output_type": "display_data",
          "data": {
            "image/png": "[encoded data removed]",
            "text/plain": [
              "<Figure size 432x288 with 2 Axes>"
            ]
          },
          "metadata": {
            "tags": [],
            "needs_background": "light"
          }
        }
      ]
    },
    {
      "cell_type": "code",
      "metadata": {
        "id": "nFmFz9--HsW4",
        "colab": {
          "base_uri": "https://localhost:8080/"
        },
        "outputId": "8aeba1b6-73cc-449f-d0ed-d0b8763f4a1f"
      },
      "source": [
        "(336 + 32) / (336 + 25 + 7 + 32)"
      ],
      "execution_count": 67,
      "outputs": [
        {
          "output_type": "execute_result",
          "data": {
            "text/plain": [
              "0.92"
            ]
          },
          "metadata": {
            "tags": []
          },
          "execution_count": 67
        }
      ]
    },
    {
      "cell_type": "code",
      "metadata": {
        "id": "Hv9hY03JH2tm",
        "colab": {
          "base_uri": "https://localhost:8080/"
        },
        "outputId": "37a070b8-c75a-4c4f-f67b-cbda6f1d9028"
      },
      "source": [
        "# Percentual de acerto para pessoas que pagam o empréstimo\n",
        "336 / (336 + 25)"
      ],
      "execution_count": 68,
      "outputs": [
        {
          "output_type": "execute_result",
          "data": {
            "text/plain": [
              "0.9307479224376731"
            ]
          },
          "metadata": {
            "tags": []
          },
          "execution_count": 68
        }
      ]
    },
    {
      "cell_type": "code",
      "metadata": {
        "id": "NH0YdbUuIDpK",
        "colab": {
          "base_uri": "https://localhost:8080/"
        },
        "outputId": "5492fae6-a0ee-4964-8d1a-1980e6bb5b5b"
      },
      "source": [
        "# Percentual de acerto para pessoas que não pagam o empréstimo\n",
        "32 / (32 + 7)"
      ],
      "execution_count": 69,
      "outputs": [
        {
          "output_type": "execute_result",
          "data": {
            "text/plain": [
              "0.8205128205128205"
            ]
          },
          "metadata": {
            "tags": []
          },
          "execution_count": 69
        }
      ]
    },
    {
      "cell_type": "code",
      "metadata": {
        "id": "sxbMp1DMIb58",
        "colab": {
          "base_uri": "https://localhost:8080/"
        },
        "outputId": "e3f382ce-69cc-473d-bf29-22e1baeed32d"
      },
      "source": [
        "# Perdas: 5.000\n",
        "# Clientes não pagadores: 1.000\n",
        "1000 * 18 / 100"
      ],
      "execution_count": 73,
      "outputs": [
        {
          "output_type": "execute_result",
          "data": {
            "text/plain": [
              "180.0"
            ]
          },
          "metadata": {
            "tags": []
          },
          "execution_count": 73
        }
      ]
    },
    {
      "cell_type": "code",
      "metadata": {
        "id": "afpZR2gnJG_g",
        "colab": {
          "base_uri": "https://localhost:8080/"
        },
        "outputId": "4eca38cc-ad30-4cbd-a68a-0213e6f1d88e"
      },
      "source": [
        "180 * 5000"
      ],
      "execution_count": 74,
      "outputs": [
        {
          "output_type": "execute_result",
          "data": {
            "text/plain": [
              "900000"
            ]
          },
          "metadata": {
            "tags": []
          },
          "execution_count": 74
        }
      ]
    },
    {
      "cell_type": "markdown",
      "metadata": {
        "id": "O3LdjHSOJSb0"
      },
      "source": [
        "## Subamostragem (undersampling) - Tomek links\n",
        "\n",
        "Link para documentação\n",
        "- https://imbalanced-learn.readthedocs.io/en/stable/user_guide.html"
      ]
    },
    {
      "cell_type": "code",
      "metadata": {
        "id": "7euO-JSQLyvl"
      },
      "source": [
        "from imblearn.under_sampling import TomekLinks # Técnica para encontrar os registros que são parecidos das duas classes para apagar os registros da classe majoritária"
      ],
      "execution_count": 76,
      "outputs": []
    },
    {
      "cell_type": "code",
      "metadata": {
        "id": "6nzI6h5GMBto",
        "colab": {
          "base_uri": "https://localhost:8080/"
        },
        "outputId": "c24016e6-43b0-44c9-9fae-cf1d665fd291"
      },
      "source": [
        "tl = TomekLinks(sampling_strategy='majority') # 'majority' ira apagar somente os registros da classe majoritária\n",
        "X_under, y_under = tl.fit_sample(X, y) "
      ],
      "execution_count": 80,
      "outputs": [
        {
          "output_type": "stream",
          "text": [
            "/usr/local/lib/python3.7/dist-packages/sklearn/utils/deprecation.py:87: FutureWarning: Function safe_indexing is deprecated; safe_indexing is deprecated in version 0.22 and will be removed in version 0.24.\n",
            "  warnings.warn(msg, category=FutureWarning)\n"
          ],
          "name": "stderr"
        }
      ]
    },
    {
      "cell_type": "code",
      "metadata": {
        "id": "gv6iPNX5Mren",
        "colab": {
          "base_uri": "https://localhost:8080/"
        },
        "outputId": "d05817ee-fdd7-4c63-96f3-d4bced8b283a"
      },
      "source": [
        "X_under.shape, y_under.shape # Removeu 100 registros da base de dados de classe 0"
      ],
      "execution_count": 81,
      "outputs": [
        {
          "output_type": "execute_result",
          "data": {
            "text/plain": [
              "((1897, 3), (1897,))"
            ]
          },
          "metadata": {
            "tags": []
          },
          "execution_count": 81
        }
      ]
    },
    {
      "cell_type": "code",
      "metadata": {
        "id": "j3tJD1SkNAzW",
        "colab": {
          "base_uri": "https://localhost:8080/"
        },
        "outputId": "49f117ad-68b1-4abd-b5ac-afbb58db920d"
      },
      "source": [
        "np.unique(y, return_counts=True)"
      ],
      "execution_count": 87,
      "outputs": [
        {
          "output_type": "execute_result",
          "data": {
            "text/plain": [
              "(array([0, 1]), array([1714,  283]))"
            ]
          },
          "metadata": {
            "tags": []
          },
          "execution_count": 87
        }
      ]
    },
    {
      "cell_type": "code",
      "metadata": {
        "id": "HKn8t_YxNFo6",
        "colab": {
          "base_uri": "https://localhost:8080/"
        },
        "outputId": "3a20f5bf-8b3d-4d1f-a40e-d06fe4af0b06"
      },
      "source": [
        "np.unique(y_under, return_counts=True)"
      ],
      "execution_count": 88,
      "outputs": [
        {
          "output_type": "execute_result",
          "data": {
            "text/plain": [
              "(array([0, 1]), array([1614,  283]))"
            ]
          },
          "metadata": {
            "tags": []
          },
          "execution_count": 88
        }
      ]
    },
    {
      "cell_type": "code",
      "metadata": {
        "id": "WTg10B05NOAC",
        "colab": {
          "base_uri": "https://localhost:8080/"
        },
        "outputId": "75ea574b-3e79-47a9-e639-67e25e69d28f"
      },
      "source": [
        "X_treinamento_u, X_teste_u, y_treinamento_u, y_teste_u = train_test_split(X_under,\n",
        "                                                                          y_under,\n",
        "                                                                          test_size=0.2,\n",
        "                                                                          stratify=y_under)\n",
        "X_treinamento_u.shape, X_teste_u.shape"
      ],
      "execution_count": 89,
      "outputs": [
        {
          "output_type": "execute_result",
          "data": {
            "text/plain": [
              "((1517, 3), (380, 3))"
            ]
          },
          "metadata": {
            "tags": []
          },
          "execution_count": 89
        }
      ]
    },
    {
      "cell_type": "code",
      "metadata": {
        "id": "4L5t35-fOlE2",
        "colab": {
          "base_uri": "https://localhost:8080/"
        },
        "outputId": "5edf9990-7ca2-43fd-cb73-09d9891658d9"
      },
      "source": [
        "modelo_u = GaussianNB()\n",
        "modelo_u.fit(X_treinamento_u, y_treinamento_u)\n",
        "previsoes_u = modelo_u.predict(X_teste_u)\n",
        "accuracy_score(previsoes_u, y_teste_u)"
      ],
      "execution_count": 92,
      "outputs": [
        {
          "output_type": "execute_result",
          "data": {
            "text/plain": [
              "0.9263157894736842"
            ]
          },
          "metadata": {
            "tags": []
          },
          "execution_count": 92
        }
      ]
    },
    {
      "cell_type": "code",
      "metadata": {
        "id": "h-XLF8L9Ozy_",
        "colab": {
          "base_uri": "https://localhost:8080/"
        },
        "outputId": "3c6693bd-ed8b-4e4f-8a38-595d2059b9b0"
      },
      "source": [
        "cm_u = confusion_matrix(previsoes_u, y_teste_u)\n",
        "cm_u"
      ],
      "execution_count": 93,
      "outputs": [
        {
          "output_type": "execute_result",
          "data": {
            "text/plain": [
              "array([[317,  22],\n",
              "       [  6,  35]])"
            ]
          },
          "metadata": {
            "tags": []
          },
          "execution_count": 93
        }
      ]
    },
    {
      "cell_type": "code",
      "metadata": {
        "id": "6iLQLurpO5Aj",
        "colab": {
          "base_uri": "https://localhost:8080/"
        },
        "outputId": "922c350c-5d9a-4823-f09d-dba5f6ba27df"
      },
      "source": [
        "315 / (315 + 26)"
      ],
      "execution_count": 94,
      "outputs": [
        {
          "output_type": "execute_result",
          "data": {
            "text/plain": [
              "0.9237536656891495"
            ]
          },
          "metadata": {
            "tags": []
          },
          "execution_count": 94
        }
      ]
    },
    {
      "cell_type": "code",
      "metadata": {
        "id": "EMCdEOACO_BI",
        "colab": {
          "base_uri": "https://localhost:8080/"
        },
        "outputId": "9e1160ff-b75f-4b32-a094-889e9ba63bd0"
      },
      "source": [
        "31 / (31 + 8)"
      ],
      "execution_count": 95,
      "outputs": [
        {
          "output_type": "execute_result",
          "data": {
            "text/plain": [
              "0.7948717948717948"
            ]
          },
          "metadata": {
            "tags": []
          },
          "execution_count": 95
        }
      ]
    },
    {
      "cell_type": "markdown",
      "metadata": {
        "id": "F3mmQGLHQvLr"
      },
      "source": [
        "## Sobreamostragem (oversampling) - SMOTE"
      ]
    },
    {
      "cell_type": "code",
      "metadata": {
        "id": "afZorNsRP2ZO"
      },
      "source": [
        "from imblearn.over_sampling import SMOTE"
      ],
      "execution_count": 96,
      "outputs": []
    },
    {
      "cell_type": "code",
      "metadata": {
        "id": "-dqqqfx4P8BS",
        "colab": {
          "base_uri": "https://localhost:8080/"
        },
        "outputId": "36fe845c-0425-4831-b44d-ce21303db87e"
      },
      "source": [
        "smote = SMOTE(sampling_strategy='minority') # Criação do algoritmo 'smote'\n",
        "X_over, y_over = smote.fit_sample(X, y)"
      ],
      "execution_count": 98,
      "outputs": [
        {
          "output_type": "stream",
          "text": [
            "/usr/local/lib/python3.7/dist-packages/sklearn/utils/deprecation.py:87: FutureWarning: Function safe_indexing is deprecated; safe_indexing is deprecated in version 0.22 and will be removed in version 0.24.\n",
            "  warnings.warn(msg, category=FutureWarning)\n"
          ],
          "name": "stderr"
        }
      ]
    },
    {
      "cell_type": "code",
      "metadata": {
        "id": "ARlvsdYbQN50",
        "colab": {
          "base_uri": "https://localhost:8080/"
        },
        "outputId": "21629758-f9d4-443b-8447-63faf0ee13d8"
      },
      "source": [
        "X_over.shape, y_over.shape"
      ],
      "execution_count": 100,
      "outputs": [
        {
          "output_type": "execute_result",
          "data": {
            "text/plain": [
              "((3428, 3), (3428,))"
            ]
          },
          "metadata": {
            "tags": []
          },
          "execution_count": 100
        }
      ]
    },
    {
      "cell_type": "code",
      "metadata": {
        "id": "yDjesKDwQUJQ",
        "colab": {
          "base_uri": "https://localhost:8080/"
        },
        "outputId": "6d78cfb1-16e9-4e87-da06-534b4094bf5c"
      },
      "source": [
        "np.unique(y, return_counts=True)"
      ],
      "execution_count": 101,
      "outputs": [
        {
          "output_type": "execute_result",
          "data": {
            "text/plain": [
              "(array([0, 1]), array([1714,  283]))"
            ]
          },
          "metadata": {
            "tags": []
          },
          "execution_count": 101
        }
      ]
    },
    {
      "cell_type": "code",
      "metadata": {
        "id": "StbCHeZSQYd3",
        "colab": {
          "base_uri": "https://localhost:8080/"
        },
        "outputId": "17916e9e-29f2-4342-a3a8-7192091a3aa5"
      },
      "source": [
        "np.unique(y_over, return_counts=True)"
      ],
      "execution_count": 102,
      "outputs": [
        {
          "output_type": "execute_result",
          "data": {
            "text/plain": [
              "(array([0, 1]), array([1714, 1714]))"
            ]
          },
          "metadata": {
            "tags": []
          },
          "execution_count": 102
        }
      ]
    },
    {
      "cell_type": "code",
      "metadata": {
        "id": "6CQ2NDEUQiZG"
      },
      "source": [
        "X_treinamento_o, X_teste_o, y_treinamento_o, y_teste_o = train_test_split(X_over, y_over,\n",
        "                                                                          test_size = 0.2,\n",
        "                                                                          stratify=y_over)"
      ],
      "execution_count": 112,
      "outputs": []
    },
    {
      "cell_type": "code",
      "metadata": {
        "id": "xkvfX533QvQ8",
        "colab": {
          "base_uri": "https://localhost:8080/"
        },
        "outputId": "6820b405-cada-478b-9e72-bb803dd1e779"
      },
      "source": [
        "X_treinamento_o.shape, X_teste_o.shape"
      ],
      "execution_count": 116,
      "outputs": [
        {
          "output_type": "execute_result",
          "data": {
            "text/plain": [
              "((2742, 3), (686, 3))"
            ]
          },
          "metadata": {
            "tags": []
          },
          "execution_count": 116
        }
      ]
    },
    {
      "cell_type": "code",
      "metadata": {
        "id": "2NGU_s0rQ04G",
        "colab": {
          "base_uri": "https://localhost:8080/"
        },
        "outputId": "f09613a1-8e41-47c1-de6a-a84197d43616"
      },
      "source": [
        "modelo_o = GaussianNB()\n",
        "modelo_o.fit(X_treinamento_o, y_treinamento_o)\n",
        "previsoes_o = modelo_o.predict(X_teste_o)\n",
        "accuracy_score(previsoes_o, y_teste_o)"
      ],
      "execution_count": 117,
      "outputs": [
        {
          "output_type": "execute_result",
          "data": {
            "text/plain": [
              "0.9154518950437318"
            ]
          },
          "metadata": {
            "tags": []
          },
          "execution_count": 117
        }
      ]
    },
    {
      "cell_type": "code",
      "metadata": {
        "id": "iUPJQOgtREhn",
        "colab": {
          "base_uri": "https://localhost:8080/"
        },
        "outputId": "81033e09-7410-415e-a8cc-8a3248a3639b"
      },
      "source": [
        "cm_o = confusion_matrix(previsoes_o, y_teste_o)\n",
        "cm_o"
      ],
      "execution_count": 118,
      "outputs": [
        {
          "output_type": "execute_result",
          "data": {
            "text/plain": [
              "array([[305,  20],\n",
              "       [ 38, 323]])"
            ]
          },
          "metadata": {
            "tags": []
          },
          "execution_count": 118
        }
      ]
    },
    {
      "cell_type": "code",
      "metadata": {
        "id": "mqBS-EGnRJ0h",
        "colab": {
          "base_uri": "https://localhost:8080/"
        },
        "outputId": "34c574c5-a565-473c-cd3b-cd429e7e4624"
      },
      "source": [
        "305 / (305 + 19)"
      ],
      "execution_count": 119,
      "outputs": [
        {
          "output_type": "execute_result",
          "data": {
            "text/plain": [
              "0.941358024691358"
            ]
          },
          "metadata": {
            "tags": []
          },
          "execution_count": 119
        }
      ]
    },
    {
      "cell_type": "code",
      "metadata": {
        "id": "xRKD3o8mRRW1",
        "colab": {
          "base_uri": "https://localhost:8080/"
        },
        "outputId": "1861e6c7-8046-46b2-f74f-abe0b0bfed1e"
      },
      "source": [
        "324 / (324 + 38)"
      ],
      "execution_count": 108,
      "outputs": [
        {
          "output_type": "execute_result",
          "data": {
            "text/plain": [
              "0.8950276243093923"
            ]
          },
          "metadata": {
            "tags": []
          },
          "execution_count": 108
        }
      ]
    },
    {
      "cell_type": "code",
      "metadata": {
        "id": "W6WWS1IDRglA",
        "colab": {
          "base_uri": "https://localhost:8080/"
        },
        "outputId": "e611dd9e-d81b-4713-e1dc-f5522ec1a12f"
      },
      "source": [
        "# Perdas: 5.000\n",
        "# Cliente não pagadores: 1.000\n",
        "1000 * 11 / 100"
      ],
      "execution_count": 120,
      "outputs": [
        {
          "output_type": "execute_result",
          "data": {
            "text/plain": [
              "110.0"
            ]
          },
          "metadata": {
            "tags": []
          },
          "execution_count": 120
        }
      ]
    },
    {
      "cell_type": "code",
      "metadata": {
        "id": "Tx6_-Y_WRsJ0",
        "colab": {
          "base_uri": "https://localhost:8080/"
        },
        "outputId": "2f8b779a-4747-4624-f209-64759f9320f8"
      },
      "source": [
        "110 * 5000"
      ],
      "execution_count": 110,
      "outputs": [
        {
          "output_type": "execute_result",
          "data": {
            "text/plain": [
              "550000"
            ]
          },
          "metadata": {
            "tags": []
          },
          "execution_count": 110
        }
      ]
    },
    {
      "cell_type": "code",
      "metadata": {
        "id": "AC0uoEjmRvPV",
        "colab": {
          "base_uri": "https://localhost:8080/"
        },
        "outputId": "74618994-8cd9-4884-eff9-ea09c81bb889"
      },
      "source": [
        "900000 - 550000"
      ],
      "execution_count": 111,
      "outputs": [
        {
          "output_type": "execute_result",
          "data": {
            "text/plain": [
              "350000"
            ]
          },
          "metadata": {
            "tags": []
          },
          "execution_count": 111
        }
      ]
    }
  ]
}