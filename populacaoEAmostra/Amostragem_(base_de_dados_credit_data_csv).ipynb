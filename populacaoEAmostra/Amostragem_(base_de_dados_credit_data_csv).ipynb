{
  "nbformat": 4,
  "nbformat_minor": 0,
  "metadata": {
    "colab": {
      "name": "Amostragem (base de dados - credit_data.csv).ipynb",
      "provenance": [],
      "collapsed_sections": [
        "_b3662yh0h5M",
        "5CKJPA5L7S9q"
      ],
      "toc_visible": true
    },
    "kernelspec": {
      "name": "python3",
      "display_name": "Python 3"
    }
  },
  "cells": [
    {
      "cell_type": "markdown",
      "metadata": {
        "id": "bnzPmx8P52UF"
      },
      "source": [
        "# Amostragem"
      ]
    },
    {
      "cell_type": "markdown",
      "metadata": {
        "id": "DTxzWPl_Vel4"
      },
      "source": [
        "## Carregamento da base de dados"
      ]
    },
    {
      "cell_type": "code",
      "metadata": {
        "id": "rLSrGHxI52uB"
      },
      "source": [
        "# Biblioteca para trabalhar com base de dados\n",
        "import pandas as pd\n",
        "# Acesso a funções randômicas\n",
        "import random\n",
        "# Extrair média, cálculos de somatório, contagem, etc\n",
        "import numpy as np"
      ],
      "execution_count": 3,
      "outputs": []
    },
    {
      "cell_type": "code",
      "metadata": {
        "id": "MQX_JYAH6T58"
      },
      "source": [
        "# Variável para armazenar os dados do arquivo census\n",
        "dataset = pd.read_csv('credit_data.csv')"
      ],
      "execution_count": 4,
      "outputs": []
    },
    {
      "cell_type": "code",
      "metadata": {
        "id": "GKW5CXUU6amv",
        "colab": {
          "base_uri": "https://localhost:8080/"
        },
        "outputId": "49a58c92-5439-4166-fbdf-391179e21206"
      },
      "source": [
        "# Comando .shape para identificar quantas linhas e colunas possui a base de dados dataset\n",
        "dataset.shape"
      ],
      "execution_count": 5,
      "outputs": [
        {
          "output_type": "execute_result",
          "data": {
            "text/plain": [
              "(2000, 5)"
            ]
          },
          "metadata": {
            "tags": []
          },
          "execution_count": 5
        }
      ]
    },
    {
      "cell_type": "code",
      "metadata": {
        "id": "d9HaTD8Y6gGK",
        "colab": {
          "base_uri": "https://localhost:8080/",
          "height": 197
        },
        "outputId": "5d1eed6f-7ed8-4731-eed5-9dc35b44f60b"
      },
      "source": [
        "# Comando .head() para trazer o cabeçalho da tabela, trazendo os cinco primeiros registros\n",
        "dataset.head()"
      ],
      "execution_count": 6,
      "outputs": [
        {
          "output_type": "execute_result",
          "data": {
            "text/html": [
              "<div>\n",
              "<style scoped>\n",
              "    .dataframe tbody tr th:only-of-type {\n",
              "        vertical-align: middle;\n",
              "    }\n",
              "\n",
              "    .dataframe tbody tr th {\n",
              "        vertical-align: top;\n",
              "    }\n",
              "\n",
              "    .dataframe thead th {\n",
              "        text-align: right;\n",
              "    }\n",
              "</style>\n",
              "<table border=\"1\" class=\"dataframe\">\n",
              "  <thead>\n",
              "    <tr style=\"text-align: right;\">\n",
              "      <th></th>\n",
              "      <th>i#clientid</th>\n",
              "      <th>income</th>\n",
              "      <th>age</th>\n",
              "      <th>loan</th>\n",
              "      <th>c#default</th>\n",
              "    </tr>\n",
              "  </thead>\n",
              "  <tbody>\n",
              "    <tr>\n",
              "      <th>0</th>\n",
              "      <td>1</td>\n",
              "      <td>66155.925095</td>\n",
              "      <td>59.017015</td>\n",
              "      <td>8106.532131</td>\n",
              "      <td>0</td>\n",
              "    </tr>\n",
              "    <tr>\n",
              "      <th>1</th>\n",
              "      <td>2</td>\n",
              "      <td>34415.153966</td>\n",
              "      <td>48.117153</td>\n",
              "      <td>6564.745018</td>\n",
              "      <td>0</td>\n",
              "    </tr>\n",
              "    <tr>\n",
              "      <th>2</th>\n",
              "      <td>3</td>\n",
              "      <td>57317.170063</td>\n",
              "      <td>63.108049</td>\n",
              "      <td>8020.953296</td>\n",
              "      <td>0</td>\n",
              "    </tr>\n",
              "    <tr>\n",
              "      <th>3</th>\n",
              "      <td>4</td>\n",
              "      <td>42709.534201</td>\n",
              "      <td>45.751972</td>\n",
              "      <td>6103.642260</td>\n",
              "      <td>0</td>\n",
              "    </tr>\n",
              "    <tr>\n",
              "      <th>4</th>\n",
              "      <td>5</td>\n",
              "      <td>66952.688845</td>\n",
              "      <td>18.584336</td>\n",
              "      <td>8770.099235</td>\n",
              "      <td>1</td>\n",
              "    </tr>\n",
              "  </tbody>\n",
              "</table>\n",
              "</div>"
            ],
            "text/plain": [
              "   i#clientid        income        age         loan  c#default\n",
              "0           1  66155.925095  59.017015  8106.532131          0\n",
              "1           2  34415.153966  48.117153  6564.745018          0\n",
              "2           3  57317.170063  63.108049  8020.953296          0\n",
              "3           4  42709.534201  45.751972  6103.642260          0\n",
              "4           5  66952.688845  18.584336  8770.099235          1"
            ]
          },
          "metadata": {
            "tags": []
          },
          "execution_count": 6
        }
      ]
    },
    {
      "cell_type": "code",
      "metadata": {
        "id": "3X7iatIf61Xf",
        "colab": {
          "base_uri": "https://localhost:8080/",
          "height": 197
        },
        "outputId": "ca115ba1-5de9-456e-e09f-fd0ffe1a18f1"
      },
      "source": [
        "# Comando .tail() para trazer o os cinco últimos registros da tabela\n",
        "dataset.tail()"
      ],
      "execution_count": 7,
      "outputs": [
        {
          "output_type": "execute_result",
          "data": {
            "text/html": [
              "<div>\n",
              "<style scoped>\n",
              "    .dataframe tbody tr th:only-of-type {\n",
              "        vertical-align: middle;\n",
              "    }\n",
              "\n",
              "    .dataframe tbody tr th {\n",
              "        vertical-align: top;\n",
              "    }\n",
              "\n",
              "    .dataframe thead th {\n",
              "        text-align: right;\n",
              "    }\n",
              "</style>\n",
              "<table border=\"1\" class=\"dataframe\">\n",
              "  <thead>\n",
              "    <tr style=\"text-align: right;\">\n",
              "      <th></th>\n",
              "      <th>i#clientid</th>\n",
              "      <th>income</th>\n",
              "      <th>age</th>\n",
              "      <th>loan</th>\n",
              "      <th>c#default</th>\n",
              "    </tr>\n",
              "  </thead>\n",
              "  <tbody>\n",
              "    <tr>\n",
              "      <th>1995</th>\n",
              "      <td>1996</td>\n",
              "      <td>59221.044874</td>\n",
              "      <td>48.518179</td>\n",
              "      <td>1926.729397</td>\n",
              "      <td>0</td>\n",
              "    </tr>\n",
              "    <tr>\n",
              "      <th>1996</th>\n",
              "      <td>1997</td>\n",
              "      <td>69516.127573</td>\n",
              "      <td>23.162104</td>\n",
              "      <td>3503.176156</td>\n",
              "      <td>0</td>\n",
              "    </tr>\n",
              "    <tr>\n",
              "      <th>1997</th>\n",
              "      <td>1998</td>\n",
              "      <td>44311.449262</td>\n",
              "      <td>28.017167</td>\n",
              "      <td>5522.786693</td>\n",
              "      <td>1</td>\n",
              "    </tr>\n",
              "    <tr>\n",
              "      <th>1998</th>\n",
              "      <td>1999</td>\n",
              "      <td>43756.056605</td>\n",
              "      <td>63.971796</td>\n",
              "      <td>1622.722598</td>\n",
              "      <td>0</td>\n",
              "    </tr>\n",
              "    <tr>\n",
              "      <th>1999</th>\n",
              "      <td>2000</td>\n",
              "      <td>69436.579552</td>\n",
              "      <td>56.152617</td>\n",
              "      <td>7378.833599</td>\n",
              "      <td>0</td>\n",
              "    </tr>\n",
              "  </tbody>\n",
              "</table>\n",
              "</div>"
            ],
            "text/plain": [
              "      i#clientid        income        age         loan  c#default\n",
              "1995        1996  59221.044874  48.518179  1926.729397          0\n",
              "1996        1997  69516.127573  23.162104  3503.176156          0\n",
              "1997        1998  44311.449262  28.017167  5522.786693          1\n",
              "1998        1999  43756.056605  63.971796  1622.722598          0\n",
              "1999        2000  69436.579552  56.152617  7378.833599          0"
            ]
          },
          "metadata": {
            "tags": []
          },
          "execution_count": 7
        }
      ]
    },
    {
      "cell_type": "markdown",
      "metadata": {
        "id": "RrDiirdZ9_m5"
      },
      "source": [
        "## Amostragem aleatória simples"
      ]
    },
    {
      "cell_type": "code",
      "metadata": {
        "id": "lk7eAB_R8IiT"
      },
      "source": [
        "# Função para retornar uma quantidade de amostras simples solicitadas, que será a mesma amostra. Essa função pode ser utilizada por qualquer dataframe \n",
        "def amostragem_aleatoria_simples(dataset, amostras):\n",
        "  return dataset.sample(n = amostras, random_state=1)"
      ],
      "execution_count": 11,
      "outputs": []
    },
    {
      "cell_type": "code",
      "metadata": {
        "id": "08X9Bov_8TBP",
        "colab": {
          "base_uri": "https://localhost:8080/"
        },
        "outputId": "79ae2a61-9186-4d92-aadd-67cab8057614"
      },
      "source": [
        "# Variável que vai receber a função, que invoca o dataframe dataset e retorna a amostra simples com a quantidade fixa de 100 itens do dataframe\n",
        "df_amostra_aleatoria_simples = amostragem_aleatoria_simples(dataset, 1000)\n",
        "\n",
        "# Comando .shape para identificar quantas linhas e colunas possui o dataframe armazenado na variável df_amostra_aleatoria_simples, confirmando a quantidade de 100 registros\n",
        "df_amostra_aleatoria_simples.shape"
      ],
      "execution_count": 12,
      "outputs": [
        {
          "output_type": "execute_result",
          "data": {
            "text/plain": [
              "(1000, 5)"
            ]
          },
          "metadata": {
            "tags": []
          },
          "execution_count": 12
        }
      ]
    },
    {
      "cell_type": "markdown",
      "metadata": {
        "id": "LuNZ29C3A8nc"
      },
      "source": [
        "## Amostragem sistemática"
      ]
    },
    {
      "cell_type": "code",
      "metadata": {
        "id": "pJe3yAXhAGti"
      },
      "source": [
        "# Função para determinar todo o cálculo da amostragem sistemática\n",
        "def amostragem_sistematica(dataset, amostras):\n",
        "  intervalo = len(dataset) // amostras # Armazenar na variável 'intervalo' o cálculo do resultado da divisão do dataframe e quantidade de amostras escolhidas\n",
        "  random.seed(1) # Definir que o número aleatório escolhido não mude (caso isso aconteça o resultado final também seria diferente a cada compilação)\n",
        "  inicio = random.randint(0, intervalo) # Armazenar número escolhido entre 0 e o intervalo calculado\n",
        "  indices = np.arange(inicio, len(dataset), step = intervalo) # Armazenar o array determinado pela função do numpy 'np.arrange'\n",
        "  amostra_sistematica = dataset.iloc[indices] # Criação de um novo dataframe com os valores calculados anteriormente através da função .iloc \n",
        "  return amostra_sistematica # Retorno do novo dataframe"
      ],
      "execution_count": 38,
      "outputs": []
    },
    {
      "cell_type": "code",
      "metadata": {
        "id": "F4m8_IGIAtVu",
        "colab": {
          "base_uri": "https://localhost:8080/"
        },
        "outputId": "da033cec-c604-4c39-ed9c-ec1d7bed2ff6"
      },
      "source": [
        "df_amostra_sistematica = amostragem_sistematica(dataset, 1000) # Chamar a função com os parâmetros dataset e 100 elementos da amostra\n",
        "df_amostra_sistematica.shape # Verificar quantidade de linhas e colunas da amostra"
      ],
      "execution_count": 37,
      "outputs": [
        {
          "output_type": "execute_result",
          "data": {
            "text/plain": [
              "(1000, 6)"
            ]
          },
          "metadata": {
            "tags": []
          },
          "execution_count": 37
        }
      ]
    },
    {
      "cell_type": "markdown",
      "metadata": {
        "id": "gc3aea8QHqz9"
      },
      "source": [
        "## Amostragem por grupos"
      ]
    },
    {
      "cell_type": "code",
      "metadata": {
        "id": "d8PhN_47Eyp3"
      },
      "source": [
        "# Função que vai ser passado todos os grupos e retorna o dataframe citado anteriormente\n",
        "def amostragem_agrupamento(dataset, numero_grupos): #\n",
        "  intervalo = len(dataset) / numero_grupos # Armazenar na variável 'intervalo' o cálculo do resultado da divisão do dataframe pelo número de grupos informados no parâmetro, esse cálculo serve para indicar quantos elementos no máximo terá cada grupo\n",
        "\n",
        "  grupos = [] # Lista vazia\n",
        "  id_grupo = 0 # Variável que armazena o id dos grupos, começando do grupo 0\n",
        "  contagem = 0 # Variável que conta até 3256, que é quando ocorre uma mudança de grupo\n",
        "  \n",
        "  # Percorrer todas as linhas do dataset e atribuir os grupo para cada um dos registros\n",
        "  for _ in dataset.iterrows(): # Função iterrows() percorre cada registro do dataset\n",
        "    grupos.append(id_grupo) # Adicionar na lista cada id_grupo\n",
        "    contagem += 1 # Iterando a contagem\n",
        "    if contagem > intervalo: # Se a contagem > intervalo\n",
        "      contagem = 0 # Zera o valor contagem\n",
        "      id_grupo += 1 # Adiciona um valor no id_grupo\n",
        "\n",
        "  \n",
        "  dataset['grupo'] = grupos # Acessar o atributo 'grupo' que vai receber a variável grupos, como a variável já existe no dataframe o comando fará a atualização com base na variável 'grupos'\n",
        "  random.seed(1) # Garantir que o número aleatório escolhido não varie a cada execução\n",
        "  grupo_selecionado = random.randint(0, numero_grupos) # Selecionar o grupo\n",
        "  return dataset[dataset['grupo'] == grupo_selecionado] # Retorna os valores dentro do dataframe"
      ],
      "execution_count": 17,
      "outputs": []
    },
    {
      "cell_type": "code",
      "metadata": {
        "id": "tELlhSEZFP9u",
        "colab": {
          "base_uri": "https://localhost:8080/"
        },
        "outputId": "23168a58-b007-47f2-f159-4b575dc8c218"
      },
      "source": [
        "df_amostra_agrupamento = amostragem_agrupamento(dataset, 2) # Chamar a função amostragem_agrupamento com o parâmetro do dataframe e o valor de 325\n",
        "df_amostra_agrupamento.shape, df_amostra_agrupamento['grupo'].value_counts() # Quantidade de linhas e colunas do agrupamento, acesso ao número do grupo selecionado e sua quantidade de linhas"
      ],
      "execution_count": 18,
      "outputs": [
        {
          "output_type": "execute_result",
          "data": {
            "text/plain": [
              "((1001, 6), 0    1001\n",
              " Name: grupo, dtype: int64)"
            ]
          },
          "metadata": {
            "tags": []
          },
          "execution_count": 18
        }
      ]
    },
    {
      "cell_type": "markdown",
      "metadata": {
        "id": "PNtASp3qI4mL"
      },
      "source": [
        "## Amostra estratificada"
      ]
    },
    {
      "cell_type": "code",
      "metadata": {
        "id": "FbVBHWkJIZqq"
      },
      "source": [
        "from sklearn.model_selection import StratifiedShuffleSplit # Classe 'StratifiedShuffleSplit' que faz a seleção das amostras para fazer a amostragem estratificada"
      ],
      "execution_count": 19,
      "outputs": []
    },
    {
      "cell_type": "code",
      "metadata": {
        "id": "DVhs0ihfKirI",
        "colab": {
          "base_uri": "https://localhost:8080/"
        },
        "outputId": "7b1cebb1-3715-4e62-aebc-d90a0609142e"
      },
      "source": [
        "dataset['c#default'].value_counts()"
      ],
      "execution_count": 22,
      "outputs": [
        {
          "output_type": "execute_result",
          "data": {
            "text/plain": [
              "0    1717\n",
              "1     283\n",
              "Name: c#default, dtype: int64"
            ]
          },
          "metadata": {
            "tags": []
          },
          "execution_count": 22
        }
      ]
    },
    {
      "cell_type": "code",
      "metadata": {
        "id": "W5jDYrBt7itv"
      },
      "source": [
        "# Função para calular a amostragem estratificada\n",
        "def amostragem_estratificada(dataset, percentual, campo):\n",
        "  split = StratifiedShuffleSplit(test_size=percentual, random_state=1)\n",
        "  for _, y in split.split(dataset, dataset[campo]):\n",
        "    df_y = dataset.iloc[y]\n",
        "  return df_y"
      ],
      "execution_count": 25,
      "outputs": []
    },
    {
      "cell_type": "code",
      "metadata": {
        "id": "YrWqVax077Ca",
        "colab": {
          "base_uri": "https://localhost:8080/"
        },
        "outputId": "318192f1-8413-4fa9-8b3a-657a50bef0e6"
      },
      "source": [
        "df_amostra_estratificada = amostragem_estratificada(dataset, 0.5,'c#default') # Chamando a função e passando os parâmetros de dataframe e porcentagem do dataframe solicitada para a amostra.\n",
        "df_amostra_estratificada.shape"
      ],
      "execution_count": 26,
      "outputs": [
        {
          "output_type": "execute_result",
          "data": {
            "text/plain": [
              "(1000, 6)"
            ]
          },
          "metadata": {
            "tags": []
          },
          "execution_count": 26
        }
      ]
    },
    {
      "cell_type": "markdown",
      "metadata": {
        "id": "_b3662yh0h5M"
      },
      "source": [
        "## Amostragem de reservatório"
      ]
    },
    {
      "cell_type": "code",
      "metadata": {
        "id": "0djdo1vP1b5x"
      },
      "source": [
        "# Função \n",
        "def amostragem_reservatorio(dataset, amostras):\n",
        "  stream = []\n",
        "  for i in range(len(dataset)): # Laço de repetição para percorrer o dataset\n",
        "    stream.append(i) # Adiciona cada elemento no dataset\n",
        "\n",
        "  i = 0 # Variável i recebe zero\n",
        "  tamanho = len(dataset) # Variável tamanho recebe a quantidade de registro do dataset\n",
        "\n",
        "  reservatorio = [0] * amostras # Armazena os índices dos elementos que forem sorteados\n",
        "  for i in range(amostras): # Laço de repetição para percorrer a amostra\n",
        "    reservatorio[i] = stream[i] # Inicializa a contagem e armazena os elementos\n",
        "\n",
        "  while i < tamanho: # Laço de repetição para fazer a seleção dos valores\n",
        "    j = random.randrange(i + 1) # Função randrange()\n",
        "    if j < amostras: # Condicional para definir todos os valores sorteados\n",
        "      reservatorio[j] = stream[i]\n",
        "    i += 1\n",
        "\n",
        "  return dataset.iloc[reservatorio] # Dentro de dataset haverá os ids sorteados e através da função .iloc[] serão selecionados os registros de acordo com os ids selecionados.\n",
        "  "
      ],
      "execution_count": 27,
      "outputs": []
    },
    {
      "cell_type": "code",
      "metadata": {
        "id": "stjfeIID2ea7",
        "colab": {
          "base_uri": "https://localhost:8080/"
        },
        "outputId": "03d53880-5ff7-4a3e-a8dd-dad7948aea8a"
      },
      "source": [
        "df_amostragem_reservatorio = amostragem_reservatorio(dataset, 1000) # Chama a função com o dataset e a quantidade de amostras.\n",
        "df_amostragem_reservatorio.shape"
      ],
      "execution_count": 28,
      "outputs": [
        {
          "output_type": "execute_result",
          "data": {
            "text/plain": [
              "(1000, 6)"
            ]
          },
          "metadata": {
            "tags": []
          },
          "execution_count": 28
        }
      ]
    },
    {
      "cell_type": "markdown",
      "metadata": {
        "id": "5CKJPA5L7S9q"
      },
      "source": [
        "## Comparativo dos resultados"
      ]
    },
    {
      "cell_type": "code",
      "metadata": {
        "id": "NTIZlSOQ7Usc"
      },
      "source": [
        "# Cálculo da média\n",
        "mean = dataset['age'].mean(), dataset['income'].mean(), dataset['loan'].mean()\n",
        "a = list(mean)\n",
        "\n",
        "def resultado(lista):\n",
        "  result = [a-lista for a,lista in zip(a,lista)] \n",
        "  return result"
      ],
      "execution_count": 102,
      "outputs": []
    },
    {
      "cell_type": "code",
      "metadata": {
        "id": "ygori0T_8VD1",
        "colab": {
          "base_uri": "https://localhost:8080/"
        },
        "outputId": "4ebc2b0e-8138-4b64-996c-c6669f51e59c"
      },
      "source": [
        "# Cálculo da média para amostra aleatória simples\n",
        "meanAleatoriaSimples = df_amostra_aleatoria_simples['age'].mean(), df_amostra_aleatoria_simples['income'].mean(), df_amostra_aleatoria_simples['loan'].mean() \n",
        "b = list(meanAleatoriaSimples)\n",
        "listaB = resultado(b)\n",
        "print(abs(sum(listaB)))\n",
        "\n",
        "\n",
        "\n"
      ],
      "execution_count": 118,
      "outputs": [
        {
          "output_type": "stream",
          "text": [
            "236.43380796264273\n"
          ],
          "name": "stdout"
        }
      ]
    },
    {
      "cell_type": "code",
      "metadata": {
        "id": "3UF_48Rb8cRZ",
        "colab": {
          "base_uri": "https://localhost:8080/"
        },
        "outputId": "fb272e05-6cba-49dc-b8af-bcc938240202"
      },
      "source": [
        "# Cálculo da média para amostra sistemática\n",
        "meanAleatoriaSistematica = df_amostra_sistematica['age'].mean(), df_amostra_sistematica['income'].mean(), df_amostra_sistematica['loan'].mean() \n",
        "c = list(meanAleatoriaSistematica)\n",
        "listaC = resultado(c)\n",
        "print(abs(sum(listaC)))\n"
      ],
      "execution_count": 119,
      "outputs": [
        {
          "output_type": "stream",
          "text": [
            "422.4206290472668\n"
          ],
          "name": "stdout"
        }
      ]
    },
    {
      "cell_type": "code",
      "metadata": {
        "id": "qA6-4Ltt8i6G",
        "colab": {
          "base_uri": "https://localhost:8080/"
        },
        "outputId": "69137218-ab5e-40c2-e552-c97d40355846"
      },
      "source": [
        "# Cálculo da média para amostragem por grupos\n",
        "meanAmostragemGrupos = df_amostra_agrupamento['age'].mean(), df_amostra_agrupamento['income'].mean(), df_amostra_agrupamento['loan'].mean() \n",
        "d = list(meanAmostragemGrupos)\n",
        "listaD = resultado(d)\n",
        "print(abs(sum(listaD)))"
      ],
      "execution_count": 121,
      "outputs": [
        {
          "output_type": "stream",
          "text": [
            "538.8232951423156\n"
          ],
          "name": "stdout"
        }
      ]
    },
    {
      "cell_type": "code",
      "metadata": {
        "id": "-2p78djJ8vM6",
        "colab": {
          "base_uri": "https://localhost:8080/"
        },
        "outputId": "596dd39f-087e-47fe-88aa-1f82df9b6f79"
      },
      "source": [
        "# Cálculo da média para amostra estratificada\n",
        "meanAmostraEstratificada = df_amostra_estratificada['age'].mean(), df_amostra_estratificada['income'].mean(), df_amostra_estratificada['loan'].mean() \n",
        "e = list(meanAmostraEstratificada)\n",
        "listaE = resultado(e)\n",
        "print(abs(sum(listaE)))"
      ],
      "execution_count": 123,
      "outputs": [
        {
          "output_type": "stream",
          "text": [
            "251.1322334266477\n"
          ],
          "name": "stdout"
        }
      ]
    },
    {
      "cell_type": "code",
      "metadata": {
        "id": "7i0sdi5W80xC",
        "colab": {
          "base_uri": "https://localhost:8080/"
        },
        "outputId": "8a8f5048-715d-4025-d806-376f43de4e71"
      },
      "source": [
        "# Cálculo da média para amostragem de reservatório\n",
        "meanAmostraReservatorio = df_amostragem_reservatorio['age'].mean(), df_amostragem_reservatorio['income'].mean(), df_amostragem_reservatorio['loan'].mean() \n",
        "f = list(meanAmostraReservatorio)\n",
        "listaF = resultado(f)\n",
        "print(abs(sum(listaF)))"
      ],
      "execution_count": 125,
      "outputs": [
        {
          "output_type": "stream",
          "text": [
            "235.3759660621078\n"
          ],
          "name": "stdout"
        }
      ]
    },
    {
      "cell_type": "markdown",
      "metadata": {
        "id": "wk4ZpMjbXFkF"
      },
      "source": [
        "**Considerando o cálculo de todas as médias em relação a primeira média, pode-se concluir que a média para amostragem de reservatório foi a que melhor se aproximou do resultado da média. Foi utilizada a base de dados 'credit_data.csv'.**"
      ]
    }
  ]
}